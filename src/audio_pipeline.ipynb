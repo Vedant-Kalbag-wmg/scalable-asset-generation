{
 "cells": [
  {
   "cell_type": "code",
   "execution_count": 1,
   "id": "e4ed0d76-173a-48e3-a144-7828d4ae8acc",
   "metadata": {
    "tags": []
   },
   "outputs": [
    {
     "name": "stdout",
     "output_type": "stream",
     "text": [
      "Loaded plugins: dkms-build-requires, extras_suggestions, langpacks, priorities,\n",
      "              : update-motd, versionlock\n",
      "amzn2-core                                               | 3.7 kB     00:00     \n",
      "https://download.docker.com/linux/centos/2/x86_64/stable/repodata/repomd.xml: [Errno 14] HTTPS Error 404 - Not Found\n",
      "Trying other mirror.\n",
      "neuron                                                   | 2.9 kB     00:00     \n",
      "61 packages excluded due to repository priority protections\n",
      "Resolving Dependencies\n",
      "--> Running transaction check\n",
      "---> Package libsndfile.x86_64 0:1.0.25-12.amzn2.1 will be updated\n",
      "---> Package libsndfile.x86_64 0:1.0.25-12.amzn2.2 will be an update\n",
      "--> Finished Dependency Resolution\n",
      "\n",
      "Dependencies Resolved\n",
      "\n",
      "================================================================================\n",
      " Package          Arch         Version                   Repository        Size\n",
      "================================================================================\n",
      "Updating:\n",
      " libsndfile       x86_64       1.0.25-12.amzn2.2         amzn2-core       149 k\n",
      "\n",
      "Transaction Summary\n",
      "================================================================================\n",
      "Upgrade  1 Package\n",
      "\n",
      "Total download size: 149 k\n",
      "Downloading packages:\n",
      "Delta RPMs disabled because /usr/bin/applydeltarpm not installed.\n",
      "libsndfile-1.0.25-12.amzn2.2.x86_64.rpm                    | 149 kB   00:00     \n",
      "Running transaction check\n",
      "Running transaction test\n",
      "Transaction test succeeded\n",
      "Running transaction\n",
      "Warning: RPMDB altered outside of yum.\n",
      "  Updating   : libsndfile-1.0.25-12.amzn2.2.x86_64                          1/2 \n",
      "  Cleanup    : libsndfile-1.0.25-12.amzn2.1.x86_64                          2/2 \n",
      "  Verifying  : libsndfile-1.0.25-12.amzn2.2.x86_64                          1/2 \n",
      "  Verifying  : libsndfile-1.0.25-12.amzn2.1.x86_64                          2/2 \n",
      "\n",
      "Updated:\n",
      "  libsndfile.x86_64 0:1.0.25-12.amzn2.2                                         \n",
      "\n",
      "Complete!\n"
     ]
    }
   ],
   "source": [
    "! pip install --quiet librosa numpy pandas demucs soundfile pyfluidsynth mido\n",
    "! sudo yum install -y libsndfile\n",
    "import librosa\n",
    "import numpy as np\n",
    "import os\n",
    "import pandas as pd\n",
    "import io\n",
    "from pathlib import Path\n",
    "from shutil import rmtree\n",
    "import subprocess as sp\n",
    "import soundfile as sf\n",
    "\n",
    "from dataclasses import dataclass\n",
    "from mido import MidiFile\n",
    "\n",
    "@dataclass\n",
    "class DeMixedAudio4():\n",
    "    sample_rate: int\n",
    "    bass : np.ndarray\n",
    "    drums : np.ndarray\n",
    "    other : np.ndarray\n",
    "    vocals : np.ndarray\n",
    "\n",
    "@dataclass\n",
    "class DeMixedAudio6():\n",
    "    sample_rate: int\n",
    "    bass : np.ndarray\n",
    "    drums : np.ndarray\n",
    "    other : np.ndarray\n",
    "    vocals : np.ndarray\n",
    "    piano : np.ndarray\n",
    "    guitar : np.ndarray\n",
    "import mido\n",
    "@dataclass\n",
    "class ProcessedSong4():\n",
    "    stems:DeMixedAudio4\n",
    "    vocal_based_midi: mido.midifiles.midifiles.MidiFile\n",
    "    melody_based_midi:mido.midifiles.midifiles.MidiFile\n",
    "    full_song_based_midi:mido.midifiles.midifiles.MidiFile\n",
    "    \n",
    "@dataclass\n",
    "class ProcessedSong6():\n",
    "    stems:DeMixedAudio6\n",
    "    vocal_based_midi: mido.midifiles.midifiles.MidiFile\n",
    "    melody_based_midi:mido.midifiles.midifiles.MidiFile\n",
    "    full_song_based_midi:mido.midifiles.midifiles.MidiFile\n",
    "    "
   ]
  },
  {
   "cell_type": "code",
   "execution_count": 3,
   "id": "3d85a0f1-bd50-4575-ba4f-b1ddc620f72f",
   "metadata": {
    "tags": []
   },
   "outputs": [
    {
     "name": "stdout",
     "output_type": "stream",
     "text": [
      "https://download.docker.com/linux/centos/2/x86_64/stable/repodata/repomd.xml: [Errno 14] HTTPS Error 404 - Not Found\n",
      "Trying other mirror.\n",
      "Error: Nothing to do\n",
      "fatal: destination path 'pop2piano' already exists and is not an empty directory.\n"
     ]
    }
   ],
   "source": [
    "# the line \"from transformer_wrapper import TransformerWrapper\" throws an error if this is not used\n",
    "# get_stems(os.path.join(os.getcwd(),'..',f'resources/TakeOnMe.wav'), model='htdemucs_6s', delete_temp_files=False)\n",
    "# import time\n",
    "# time.sleep(60)\n",
    "\n",
    "# !apt-get install -q -y fluidsynth\n",
    "!sudo yum -q install fluidsynth ffmpeg\n",
    "!git clone --quiet https://github.com/sweetcocoa/pop2piano/\n",
    "!cd pop2piano\n",
    "!pip install --quiet pretty-midi==0.2.9 omegaconf==2.1.1 youtube-dl==2021.12.17 transformers==4.16.1 pytorch-lightning==1.8.4 essentia==2.1b6.dev609 note-seq==0.0.3 pyFluidSynth==1.3.0\n",
    "\n",
    "if not os.path.exists(os.path.join(os.getcwd(),'model-1999-val_0.67311615.ckpt')):\n",
    "    sp.run([\"wget\", \"https://github.com/sweetcocoa/pop2piano/releases/download/dpi_2k_epoch/model-1999-val_0.67311615.ckpt\"])\n",
    "# !wget https://github.com/sweetcocoa/pop2piano/releases/download/dpi_2k_epoch/model-1999-val_0.67311615.ckpt\n",
    "\n",
    "import os \n",
    "import sys\n",
    "sys.path.append(\"pop2piano\")\n",
    "import glob\n",
    "import random\n",
    "\n",
    "import torch\n",
    "import torchaudio\n",
    "\n",
    "import numpy as np\n",
    "import pandas as pd\n",
    "import IPython.display as ipd\n",
    "import soundfile as sf\n",
    "# from google.colab import files\n",
    "\n",
    "from tqdm.auto import tqdm\n",
    "from omegaconf import OmegaConf\n",
    "import note_seq\n",
    "\n",
    "from utils.dsp import get_stereo\n",
    "from utils.demo import download_youtube\n",
    "from transformer_wrapper import TransformerWrapper\n",
    "from midi_tokenizer import MidiTokenizer, extrapolate_beat_times\n",
    "from preprocess.beat_quantizer import extract_rhythm, interpolate_beat_times"
   ]
  },
  {
   "cell_type": "code",
   "execution_count": 2,
   "id": "aa084554-ee7d-4f6e-96cf-10bfb6e84725",
   "metadata": {
    "tags": []
   },
   "outputs": [],
   "source": [
    "def get_stems(path_to_file,model='htdemucs',output_path='../resources/tmp',delete_temp_files=True):\n",
    "    file_name = os.path.basename(path_to_file)\n",
    "    sp.run([\"python3\", \"-m\", \"demucs.separate\", \"-o\", output_path, \"-n\", model, path_to_file])\n",
    "    # print(\"Demucs done, loading files\")\n",
    "    stems={}\n",
    "    if model in ['htdemucs','htdemucs_ft']:\n",
    "        for stem in ['bass','drums','other','vocals']:\n",
    "            x,sr = librosa.load(os.path.join(output_path, model,file_name[:file_name.find('.')],f\"{stem}.wav\"), sr=None)\n",
    "            stems[stem] = x\n",
    "        if delete_temp_files:\n",
    "            print(\"Deleting temp files\")\n",
    "            rmtree(f\"{output_path}/{model}/{file_name[:file_name.find('.')]}\")\n",
    "        return DeMixedAudio4(sr, bass=stems['bass'], drums=stems['drums'], other=stems['other'], vocals=stems['vocals'])#stems\n",
    "    elif model == 'htdemucs_6s':\n",
    "        for stem in ['bass','drums','other','vocals','piano', 'guitar']:\n",
    "            x,sr = librosa.load(os.path.join(output_path, model,file_name[:file_name.find('.')],f\"{stem}.wav\"), sr=None)\n",
    "            stems[stem] = x\n",
    "        if delete_temp_files:\n",
    "            print(\"Deleting temp files\")\n",
    "            rmtree(f\"{output_path}/{model}/{file_name[:file_name.find('.')]}\")\n",
    "        return DeMixedAudio6(sr, bass=stems['bass'], drums=stems['drums'], other=stems['other'], vocals=stems['vocals'], piano=stems['piano'], guitar=stems['guitar'])#stems\n",
    "    \n",
    "def get_piano(path_to_file, composer='composer1', delete_temp_files=True):\n",
    "    device = \"cuda\" if torch.cuda.is_available() else \"cpu\"\n",
    "    config = OmegaConf.load(\"pop2piano/config.yaml\")\n",
    "    wrapper = TransformerWrapper(config)\n",
    "    wrapper = wrapper.load_from_checkpoint(\"model-1999-val_0.67311615.ckpt\", config=config).to(device)\n",
    "    model = \"dpipqxiy\"\n",
    "\n",
    "    wrapper.eval()\n",
    "    pm, composer, mix_path, midi_path = wrapper.generate(\n",
    "        audio_path=path_to_file, \n",
    "        composer=composer, \n",
    "        model=model,\n",
    "        show_plot=False, \n",
    "        save_midi=True, \n",
    "        save_mix=False, \n",
    "    )\n",
    "    midi_file = MidiFile(midi_path)\n",
    "    if delete_temp_files:\n",
    "        os.remove(midi_path)\n",
    "    \n",
    "    return midi_file\n",
    "\n",
    "def process_file(audio_file:np.ndarray, sample_rate:int, song_name:str, output_folder_path:str='../resources/tmp', demucs_model='htdemucs_6s', delete_temp_files=True):\n",
    "    if not os.path.exists(output_folder_path):\n",
    "        os.mkdir(output_folder_path)\n",
    "    \n",
    "    # Write array to audio file for demucs and pop2piano\n",
    "    sf.write(os.path.join(output_folder_path,f'{song_name}.wav'), audio_file, sample_rate)\n",
    "    # if not os.path.exists(os.path.join(output_folder_path, demucs_model, song_name)):\n",
    "    # Separate stems using demucs\n",
    "    print(\"Running demucs\")\n",
    "    song = get_stems(path_to_file=os.path.join(output_folder_path,f'{song_name}.wav'), model=demucs_model,output_path=output_folder_path, delete_temp_files=delete_temp_files)\n",
    "    # Save the melodic line (guitar+bass+other+piano)\n",
    "    if demucs_model == 'htdemucs_6s':\n",
    "        melodic_line = song.guitar + song.bass+ song.other + song.piano\n",
    "    if demucs_model in ['htdemucs','htdemucs_ft']:\n",
    "        melodic_line = song.other+song.bass\n",
    "    sf.write(os.path.join(output_folder_path,f'{song_name}_melodicline.wav'),melodic_line, song.sample_rate)\n",
    "    vocal = song.vocals\n",
    "    sf.write(os.path.join(output_folder_path,f'{song_name}_vocal.wav'),vocal, song.sample_rate)\n",
    "\n",
    "    # Run pop2piano on full song, melodic line and vocal only\n",
    "    print(\"Running pop2piano\")\n",
    "    full_song_midi = get_piano(os.path.join(output_folder_path,f'{song_name}.wav'),composer='composer1', delete_temp_files=delete_temp_files)\n",
    "    melodicline_midi = get_piano(os.path.join(output_folder_path,f'{song_name}_melodicline.wav'),composer='composer1', delete_temp_files=delete_temp_files)\n",
    "    vocal_only_midi = get_piano(os.path.join(output_folder_path,f'{song_name}_vocal.wav'),composer='composer1', delete_temp_files=delete_temp_files)\n",
    "    \n",
    "    if demucs_model == 'htdemucs_6s':\n",
    "        return ProcessedSong6(song, vocal_only_midi, melodicline_midi, full_song_midi)\n",
    "    if demucs_model in ['htdemucs','htdemucs_ft']:\n",
    "        return ProcessedSong4(song, vocal_only_midi, melodicline_midi, full_song_midi)\n",
    "    "
   ]
  },
  {
   "cell_type": "code",
   "execution_count": 3,
   "id": "6d8627d1-796a-4441-ae51-8afc5c09fbaa",
   "metadata": {
    "tags": []
   },
   "outputs": [
    {
     "name": "stdout",
     "output_type": "stream",
     "text": [
      "Running demucs\n"
     ]
    },
    {
     "name": "stderr",
     "output_type": "stream",
     "text": [
      "Downloading: \"https://dl.fbaipublicfiles.com/demucs/hybrid_transformer/f7e0c4bc-ba3fe64a.th\" to /home/ec2-user/.cache/torch/hub/checkpoints/f7e0c4bc-ba3fe64a.th\n",
      "100%|██████████| 80.2M/80.2M [00:01<00:00, 47.0MB/s]\n",
      "Downloading: \"https://dl.fbaipublicfiles.com/demucs/hybrid_transformer/d12395a8-e57c48e6.th\" to /home/ec2-user/.cache/torch/hub/checkpoints/d12395a8-e57c48e6.th\n",
      "100%|██████████| 80.2M/80.2M [00:06<00:00, 12.1MB/s]\n",
      "Downloading: \"https://dl.fbaipublicfiles.com/demucs/hybrid_transformer/92cfc3b6-ef3bcb9c.th\" to /home/ec2-user/.cache/torch/hub/checkpoints/92cfc3b6-ef3bcb9c.th\n",
      "100%|██████████| 80.2M/80.2M [00:01<00:00, 47.1MB/s]\n",
      "Downloading: \"https://dl.fbaipublicfiles.com/demucs/hybrid_transformer/04573f0d-f3cf25b2.th\" to /home/ec2-user/.cache/torch/hub/checkpoints/04573f0d-f3cf25b2.th\n",
      "100%|██████████| 80.2M/80.2M [00:01<00:00, 45.2MB/s]\n",
      "ffprobe: error while loading shared libraries: libopenh264.so.5: cannot open shared object file: No such file or directory\n"
     ]
    },
    {
     "name": "stdout",
     "output_type": "stream",
     "text": [
      "Selected model is a bag of 4 models. You will see that many progress bars per track.\n",
      "Separated tracks will be stored in /home/ec2-user/SageMaker/scalable-asset-generation/resources/htdemucs_ft\n",
      "Separating track ../resources/TasPeur.wav\n"
     ]
    },
    {
     "name": "stderr",
     "output_type": "stream",
     "text": [
      "100%|██████████████████████████████████████████████████████████████████████| 216.45/216.45 [00:10<00:00, 19.72seconds/s]\n",
      "100%|██████████████████████████████████████████████████████████████████████| 216.45/216.45 [00:08<00:00, 24.65seconds/s]\n",
      "100%|██████████████████████████████████████████████████████████████████████| 216.45/216.45 [00:08<00:00, 24.60seconds/s]\n",
      "100%|██████████████████████████████████████████████████████████████████████| 216.45/216.45 [00:08<00:00, 24.57seconds/s]\n"
     ]
    },
    {
     "name": "stdout",
     "output_type": "stream",
     "text": [
      "Running pop2piano\n"
     ]
    },
    {
     "ename": "NameError",
     "evalue": "name 'torch' is not defined",
     "output_type": "error",
     "traceback": [
      "\u001b[0;31m---------------------------------------------------------------------------\u001b[0m",
      "\u001b[0;31mNameError\u001b[0m                                 Traceback (most recent call last)",
      "\u001b[0;32m/tmp/ipykernel_28694/900909841.py\u001b[0m in \u001b[0;36m<cell line: 2>\u001b[0;34m()\u001b[0m\n\u001b[1;32m      1\u001b[0m \u001b[0mx_test\u001b[0m\u001b[0;34m,\u001b[0m\u001b[0msr_test\u001b[0m \u001b[0;34m=\u001b[0m \u001b[0mlibrosa\u001b[0m\u001b[0;34m.\u001b[0m\u001b[0mload\u001b[0m\u001b[0;34m(\u001b[0m\u001b[0;34m'../resources/tas_peur.wav'\u001b[0m\u001b[0;34m,\u001b[0m \u001b[0msr\u001b[0m\u001b[0;34m=\u001b[0m\u001b[0;32mNone\u001b[0m\u001b[0;34m)\u001b[0m\u001b[0;34m\u001b[0m\u001b[0;34m\u001b[0m\u001b[0m\n\u001b[0;32m----> 2\u001b[0;31m \u001b[0mf\u001b[0m \u001b[0;34m=\u001b[0m \u001b[0mprocess_file\u001b[0m\u001b[0;34m(\u001b[0m\u001b[0mx_test\u001b[0m\u001b[0;34m,\u001b[0m \u001b[0msr_test\u001b[0m\u001b[0;34m,\u001b[0m \u001b[0msong_name\u001b[0m\u001b[0;34m=\u001b[0m\u001b[0;34m'TasPeur'\u001b[0m\u001b[0;34m,\u001b[0m\u001b[0moutput_folder_path\u001b[0m\u001b[0;34m=\u001b[0m\u001b[0;34m'../resources/'\u001b[0m\u001b[0;34m,\u001b[0m\u001b[0mdemucs_model\u001b[0m\u001b[0;34m=\u001b[0m\u001b[0;34m'htdemucs_ft'\u001b[0m\u001b[0;34m,\u001b[0m \u001b[0mdelete_temp_files\u001b[0m\u001b[0;34m=\u001b[0m\u001b[0;32mFalse\u001b[0m\u001b[0;34m)\u001b[0m\u001b[0;34m\u001b[0m\u001b[0;34m\u001b[0m\u001b[0m\n\u001b[0m",
      "\u001b[0;32m/tmp/ipykernel_28694/2259877076.py\u001b[0m in \u001b[0;36mprocess_file\u001b[0;34m(audio_file, sample_rate, song_name, output_folder_path, demucs_model, delete_temp_files)\u001b[0m\n\u001b[1;32m     64\u001b[0m     \u001b[0;31m# Run pop2piano on full song, melodic line and vocal only\u001b[0m\u001b[0;34m\u001b[0m\u001b[0;34m\u001b[0m\u001b[0m\n\u001b[1;32m     65\u001b[0m     \u001b[0mprint\u001b[0m\u001b[0;34m(\u001b[0m\u001b[0;34m\"Running pop2piano\"\u001b[0m\u001b[0;34m)\u001b[0m\u001b[0;34m\u001b[0m\u001b[0;34m\u001b[0m\u001b[0m\n\u001b[0;32m---> 66\u001b[0;31m     \u001b[0mfull_song_midi\u001b[0m \u001b[0;34m=\u001b[0m \u001b[0mget_piano\u001b[0m\u001b[0;34m(\u001b[0m\u001b[0mos\u001b[0m\u001b[0;34m.\u001b[0m\u001b[0mpath\u001b[0m\u001b[0;34m.\u001b[0m\u001b[0mjoin\u001b[0m\u001b[0;34m(\u001b[0m\u001b[0moutput_folder_path\u001b[0m\u001b[0;34m,\u001b[0m\u001b[0;34mf'{song_name}.wav'\u001b[0m\u001b[0;34m)\u001b[0m\u001b[0;34m,\u001b[0m\u001b[0mcomposer\u001b[0m\u001b[0;34m=\u001b[0m\u001b[0;34m'composer1'\u001b[0m\u001b[0;34m,\u001b[0m \u001b[0mdelete_temp_files\u001b[0m\u001b[0;34m=\u001b[0m\u001b[0mdelete_temp_files\u001b[0m\u001b[0;34m)\u001b[0m\u001b[0;34m\u001b[0m\u001b[0;34m\u001b[0m\u001b[0m\n\u001b[0m\u001b[1;32m     67\u001b[0m     \u001b[0mmelodicline_midi\u001b[0m \u001b[0;34m=\u001b[0m \u001b[0mget_piano\u001b[0m\u001b[0;34m(\u001b[0m\u001b[0mos\u001b[0m\u001b[0;34m.\u001b[0m\u001b[0mpath\u001b[0m\u001b[0;34m.\u001b[0m\u001b[0mjoin\u001b[0m\u001b[0;34m(\u001b[0m\u001b[0moutput_folder_path\u001b[0m\u001b[0;34m,\u001b[0m\u001b[0;34mf'{song_name}_melodicline.wav'\u001b[0m\u001b[0;34m)\u001b[0m\u001b[0;34m,\u001b[0m\u001b[0mcomposer\u001b[0m\u001b[0;34m=\u001b[0m\u001b[0;34m'composer1'\u001b[0m\u001b[0;34m,\u001b[0m \u001b[0mdelete_temp_files\u001b[0m\u001b[0;34m=\u001b[0m\u001b[0mdelete_temp_files\u001b[0m\u001b[0;34m)\u001b[0m\u001b[0;34m\u001b[0m\u001b[0;34m\u001b[0m\u001b[0m\n\u001b[1;32m     68\u001b[0m     \u001b[0mvocal_only_midi\u001b[0m \u001b[0;34m=\u001b[0m \u001b[0mget_piano\u001b[0m\u001b[0;34m(\u001b[0m\u001b[0mos\u001b[0m\u001b[0;34m.\u001b[0m\u001b[0mpath\u001b[0m\u001b[0;34m.\u001b[0m\u001b[0mjoin\u001b[0m\u001b[0;34m(\u001b[0m\u001b[0moutput_folder_path\u001b[0m\u001b[0;34m,\u001b[0m\u001b[0;34mf'{song_name}_vocal.wav'\u001b[0m\u001b[0;34m)\u001b[0m\u001b[0;34m,\u001b[0m\u001b[0mcomposer\u001b[0m\u001b[0;34m=\u001b[0m\u001b[0;34m'composer1'\u001b[0m\u001b[0;34m,\u001b[0m \u001b[0mdelete_temp_files\u001b[0m\u001b[0;34m=\u001b[0m\u001b[0mdelete_temp_files\u001b[0m\u001b[0;34m)\u001b[0m\u001b[0;34m\u001b[0m\u001b[0;34m\u001b[0m\u001b[0m\n",
      "\u001b[0;32m/tmp/ipykernel_28694/2259877076.py\u001b[0m in \u001b[0;36mget_piano\u001b[0;34m(path_to_file, composer, delete_temp_files)\u001b[0m\n\u001b[1;32m     22\u001b[0m \u001b[0;34m\u001b[0m\u001b[0m\n\u001b[1;32m     23\u001b[0m \u001b[0;32mdef\u001b[0m \u001b[0mget_piano\u001b[0m\u001b[0;34m(\u001b[0m\u001b[0mpath_to_file\u001b[0m\u001b[0;34m,\u001b[0m \u001b[0mcomposer\u001b[0m\u001b[0;34m=\u001b[0m\u001b[0;34m'composer1'\u001b[0m\u001b[0;34m,\u001b[0m \u001b[0mdelete_temp_files\u001b[0m\u001b[0;34m=\u001b[0m\u001b[0;32mTrue\u001b[0m\u001b[0;34m)\u001b[0m\u001b[0;34m:\u001b[0m\u001b[0;34m\u001b[0m\u001b[0;34m\u001b[0m\u001b[0m\n\u001b[0;32m---> 24\u001b[0;31m     \u001b[0mdevice\u001b[0m \u001b[0;34m=\u001b[0m \u001b[0;34m\"cuda\"\u001b[0m \u001b[0;32mif\u001b[0m \u001b[0mtorch\u001b[0m\u001b[0;34m.\u001b[0m\u001b[0mcuda\u001b[0m\u001b[0;34m.\u001b[0m\u001b[0mis_available\u001b[0m\u001b[0;34m(\u001b[0m\u001b[0;34m)\u001b[0m \u001b[0;32melse\u001b[0m \u001b[0;34m\"cpu\"\u001b[0m\u001b[0;34m\u001b[0m\u001b[0;34m\u001b[0m\u001b[0m\n\u001b[0m\u001b[1;32m     25\u001b[0m     \u001b[0mconfig\u001b[0m \u001b[0;34m=\u001b[0m \u001b[0mOmegaConf\u001b[0m\u001b[0;34m.\u001b[0m\u001b[0mload\u001b[0m\u001b[0;34m(\u001b[0m\u001b[0;34m\"pop2piano/config.yaml\"\u001b[0m\u001b[0;34m)\u001b[0m\u001b[0;34m\u001b[0m\u001b[0;34m\u001b[0m\u001b[0m\n\u001b[1;32m     26\u001b[0m     \u001b[0mwrapper\u001b[0m \u001b[0;34m=\u001b[0m \u001b[0mTransformerWrapper\u001b[0m\u001b[0;34m(\u001b[0m\u001b[0mconfig\u001b[0m\u001b[0;34m)\u001b[0m\u001b[0;34m\u001b[0m\u001b[0;34m\u001b[0m\u001b[0m\n",
      "\u001b[0;31mNameError\u001b[0m: name 'torch' is not defined"
     ]
    }
   ],
   "source": [
    "x_test,sr_test = librosa.load('../resources/tas_peur.wav', sr=None)\n",
    "f = process_file(x_test, sr_test, song_name='TasPeur',output_folder_path='../resources/',demucs_model='htdemucs_ft', delete_temp_files=False)"
   ]
  },
  {
   "cell_type": "code",
   "execution_count": null,
   "id": "4cc947e4-9ce6-490a-82ce-e0b7dcc7501b",
   "metadata": {
    "tags": []
   },
   "outputs": [],
   "source": [
    "f"
   ]
  },
  {
   "cell_type": "code",
   "execution_count": 7,
   "id": "daf12820-9605-44f4-8572-21ae97461a87",
   "metadata": {
    "tags": []
   },
   "outputs": [
    {
     "name": "stderr",
     "output_type": "stream",
     "text": [
      "ffprobe: error while loading shared libraries: libopenh264.so.5: cannot open shared object file: No such file or directory\n"
     ]
    },
    {
     "name": "stdout",
     "output_type": "stream",
     "text": [
      "Selected model is a bag of 4 models. You will see that many progress bars per track.\n",
      "Separated tracks will be stored in /home/ec2-user/SageMaker/scalable-asset-generation/resources/tmp/htdemucs_ft\n",
      "Separating track ../resources/tas_peur.wav\n"
     ]
    },
    {
     "name": "stderr",
     "output_type": "stream",
     "text": [
      "100%|██████████████████████████████████████████████████████████████████████| 216.45/216.45 [00:10<00:00, 21.26seconds/s]\n",
      "100%|██████████████████████████████████████████████████████████████████████| 216.45/216.45 [00:08<00:00, 24.62seconds/s]\n",
      "100%|██████████████████████████████████████████████████████████████████████| 216.45/216.45 [00:08<00:00, 24.53seconds/s]\n",
      "100%|██████████████████████████████████████████████████████████████████████| 216.45/216.45 [00:08<00:00, 24.36seconds/s]\n"
     ]
    }
   ],
   "source": [
    "f = get_stems('../resources/tas_peur.wav',model='htdemucs_ft',delete_temp_files=False)"
   ]
  },
  {
   "cell_type": "code",
   "execution_count": 6,
   "id": "bde2f656-ed84-4c34-a651-bebb73ba5911",
   "metadata": {
    "tags": []
   },
   "outputs": [
    {
     "data": {
      "text/plain": [
       "DeMixedAudio4(sample_rate=44100, bass=array([ 0.0000000e+00,  0.0000000e+00, -3.0517578e-05, ...,\n",
       "       -3.0517578e-05, -3.0517578e-05, -3.0517578e-05], dtype=float32), drums=array([-6.1035156e-05, -6.1035156e-05, -4.5776367e-05, ...,\n",
       "       -1.5258789e-05, -3.0517578e-05, -3.0517578e-05], dtype=float32), other=array([ 3.0517578e-05,  9.1552734e-05,  4.5776367e-05, ...,\n",
       "       -3.0517578e-05, -3.0517578e-05, -3.0517578e-05], dtype=float32), vocals=array([-3.0517578e-05, -3.0517578e-05, -3.0517578e-05, ...,\n",
       "       -3.0517578e-05, -3.0517578e-05, -3.0517578e-05], dtype=float32))"
      ]
     },
     "execution_count": 6,
     "metadata": {},
     "output_type": "execute_result"
    }
   ],
   "source": [
    "f"
   ]
  },
  {
   "cell_type": "code",
   "execution_count": null,
   "id": "6ac237b2-87be-4ed6-b41b-5e02bc0e88ed",
   "metadata": {},
   "outputs": [],
   "source": []
  }
 ],
 "metadata": {
  "kernelspec": {
   "display_name": "Python 3",
   "language": "python",
   "name": "python3"
  },
  "language_info": {
   "codemirror_mode": {
    "name": "ipython",
    "version": 3
   },
   "file_extension": ".py",
   "mimetype": "text/x-python",
   "name": "python",
   "nbconvert_exporter": "python",
   "pygments_lexer": "ipython3",
   "version": "3.11.0"
  },
  "vscode": {
   "interpreter": {
    "hash": "1a1af0ee75eeea9e2e1ee996c87e7a2b11a0bebd85af04bb136d915cefc0abce"
   }
  }
 },
 "nbformat": 4,
 "nbformat_minor": 5
}
