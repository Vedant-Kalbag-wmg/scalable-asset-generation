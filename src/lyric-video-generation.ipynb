{
 "cells": [
  {
   "cell_type": "code",
   "execution_count": 2,
   "metadata": {},
   "outputs": [
    {
     "name": "stderr",
     "output_type": "stream",
     "text": [
      "2023-03-06 21:57:28,836 - pyffmpeg.FFmpeg - INFO - FFmpeg Initialising\n",
      "2023-03-06 21:57:28,837 - pyffmpeg.FFmpeg - INFO - Save directory: .\n",
      "2023-03-06 21:57:28,838 - pyffmpeg.misc.Paths - INFO - bin folder: /Users/vedant/.pyffmpeg/bin\n",
      "2023-03-06 21:57:28,839 - pyffmpeg.misc.Paths - INFO - Inside load_ffmpeg_bin\n",
      "2023-03-06 21:57:28,840 - pyffmpeg.FFmpeg - INFO - FFmpeg file: /Users/vedant/.pyffmpeg/bin/ffmpeg\n"
     ]
    }
   ],
   "source": [
    "from pyffmpeg import FFmpeg\n",
    "import os\n",
    "ff = FFmpeg()"
   ]
  },
  {
   "cell_type": "code",
   "execution_count": null,
   "metadata": {},
   "outputs": [],
   "source": [
    "# ff.options(\"-f lavfi -i color=c=black:s=1280x720:r=5 -i ../resources/Nightmare.wav -crf 0 -c:a copy -pix_fmt yuv420p -shortest output.mp4\")"
   ]
  },
  {
   "cell_type": "code",
   "execution_count": null,
   "metadata": {},
   "outputs": [],
   "source": [
    "# t=f\"-hwaccel videotoolbox -f lavfi -i color=c=black:s=1280x720:r=25/1 -i {os.path.join(os.getcwd(),'../resources/Nightmare.wav')} -c:v h264_videotoolbox -q:v 50 -c:a aac -shortest ../resources/output.mp4\"\n",
    "# print(t)\n",
    "# ff.options(t)"
   ]
  },
  {
   "cell_type": "code",
   "execution_count": 3,
   "metadata": {},
   "outputs": [
    {
     "name": "stderr",
     "output_type": "stream",
     "text": [
      "2023-03-06 21:57:31,431 - pyffmpeg.FFmpeg - INFO - inside options\n",
      "2023-03-06 21:57:31,432 - pyffmpeg.FFmpeg - INFO - Options is a String\n",
      "2023-03-06 21:57:31,433 - pyffmpeg.FFmpeg - INFO - Shell: True\n"
     ]
    },
    {
     "data": {
      "text/plain": [
       "True"
      ]
     },
     "execution_count": 3,
     "metadata": {},
     "output_type": "execute_result"
    }
   ],
   "source": [
    "# WORKING METHODS\n",
    "\n",
    "# ff.options(\"-t 60 -s 1920x1080 -f rawvideo -pix_fmt rgb24 -r 25 -i /dev/zero empty.mkv\")\n",
    "# ff.options(\"-t 60 -f lavfi -i color=c=black:s=1920x1080 -c:v libx264 -tune stillimage -pix_fmt yuv420p output.mp4\")\n",
    "ff.options(\"-f lavfi -i color=c=black:s=1920x1080 -i ../resources/Nightmare.wav -c:v libx264 -tune stillimage -pix_fmt yuv420p -shortest -c:a aac -b:a 128k Nightmare.mp4\")"
   ]
  },
  {
   "attachments": {},
   "cell_type": "markdown",
   "metadata": {},
   "source": [
    "# Lyrics Transcription"
   ]
  },
  {
   "cell_type": "code",
   "execution_count": 54,
   "metadata": {},
   "outputs": [],
   "source": [
    "from datetime import timedelta\n",
    "import os\n",
    "import whisper\n",
    "\n",
    "def transcribe_audio(path, model):\n",
    "    file_name = os.path.basename(path)[:-4]\n",
    "    model = whisper.load_model(model) # Change this to your desired model\n",
    "    print(\"Whisper model loaded.\")\n",
    "    transcribe = model.transcribe(audio=path)\n",
    "    segments = transcribe['segments']\n",
    "\n",
    "    for segment in segments:\n",
    "        startTime = str(0)+str(timedelta(seconds=int(segment['start'])))+',000'\n",
    "        endTime = str(0)+str(timedelta(seconds=int(segment['end'])))+',000'\n",
    "        text = segment['text']\n",
    "        segmentId = segment['id']+1\n",
    "        segment = f\"{segmentId}\\n{startTime} --> {endTime}\\n{text[1:] if text[0] == ' ' else text}\\n\\n\"\n",
    "\n",
    "        srtFilename = os.path.join(os.getcwd(), f\"{file_name}.srt\")\n",
    "        # if not os.path.exists(os.path.dirname(srtFilename)):\n",
    "        #     os.makedirs(os.path.dirname(srtFilename))\n",
    "        with open(srtFilename, 'a', encoding='utf-8') as srtFile:\n",
    "            srtFile.write(segment)\n",
    "\n",
    "    return srtFilename"
   ]
  },
  {
   "cell_type": "code",
   "execution_count": 8,
   "metadata": {},
   "outputs": [
    {
     "name": "stdout",
     "output_type": "stream",
     "text": [
      "Whisper model loaded.\n"
     ]
    },
    {
     "name": "stderr",
     "output_type": "stream",
     "text": [
      "/Users/vedant/miniconda3/envs/scalable-asset-generation/lib/python3.10/site-packages/whisper/transcribe.py:113: UserWarning: FP16 is not supported on CPU; using FP32 instead\n",
      "  warnings.warn(\"FP16 is not supported on CPU; using FP32 instead\")\n"
     ]
    },
    {
     "data": {
      "text/plain": [
       "'/Users/vedant/Desktop/Programming/WMG/scalable-asset-generation-1/src/SrtFiles/VIDEO_FILENAME.srt'"
      ]
     },
     "execution_count": 8,
     "metadata": {},
     "output_type": "execute_result"
    }
   ],
   "source": [
    "transcribe_audio(\"../resources/Nightmare.wav\")"
   ]
  },
  {
   "attachments": {},
   "cell_type": "markdown",
   "metadata": {},
   "source": [
    "# Add lyrics to the video"
   ]
  },
  {
   "cell_type": "code",
   "execution_count": 12,
   "metadata": {},
   "outputs": [
    {
     "name": "stdout",
     "output_type": "stream",
     "text": [
      "Whisper model loaded.\n"
     ]
    },
    {
     "name": "stderr",
     "output_type": "stream",
     "text": [
      "/Users/vedant/miniconda3/envs/scalable-asset-generation/lib/python3.10/site-packages/whisper/transcribe.py:113: UserWarning: FP16 is not supported on CPU; using FP32 instead\n",
      "  warnings.warn(\"FP16 is not supported on CPU; using FP32 instead\")\n",
      "2023-03-06 22:09:38,175 - pyffmpeg.FFmpeg - INFO - inside options\n",
      "2023-03-06 22:09:38,176 - pyffmpeg.FFmpeg - INFO - Options is a String\n",
      "2023-03-06 22:09:38,177 - pyffmpeg.FFmpeg - INFO - Shell: True\n",
      "2023-03-06 22:10:05,150 - pyffmpeg.FFmpeg - INFO - inside options\n",
      "2023-03-06 22:10:05,152 - pyffmpeg.FFmpeg - INFO - Options is a String\n",
      "2023-03-06 22:10:05,153 - pyffmpeg.FFmpeg - INFO - Shell: True\n"
     ]
    },
    {
     "data": {
      "text/plain": [
       "True"
      ]
     },
     "execution_count": 12,
     "metadata": {},
     "output_type": "execute_result"
    }
   ],
   "source": [
    "subtitle_path=transcribe_audio(\"../resources/Nightmare.wav\")\n",
    "ff.options(\"\"\"-f lavfi -i color=c=black:s=1920x1080 -i ../resources/Nightmare.wav -c:v libx264 -tune stillimage -pix_fmt yuv420p -shortest -c:a aac -b:a 128k Nightmare.mp4\"\"\")\n"
   ]
  },
  {
   "cell_type": "code",
   "execution_count": 15,
   "metadata": {},
   "outputs": [
    {
     "data": {
      "text/plain": [
       "'/Users/vedant/Desktop/Programming/WMG/scalable-asset-generation-1/src/SrtFiles/VIDEO_FILENAME.srt'"
      ]
     },
     "execution_count": 15,
     "metadata": {},
     "output_type": "execute_result"
    }
   ],
   "source": [
    "subtitle_path"
   ]
  },
  {
   "cell_type": "code",
   "execution_count": 19,
   "metadata": {},
   "outputs": [
    {
     "name": "stderr",
     "output_type": "stream",
     "text": [
      "2023-03-06 22:14:38,362 - pyffmpeg.FFmpeg - INFO - inside options\n",
      "2023-03-06 22:14:38,364 - pyffmpeg.FFmpeg - INFO - Options is a String\n",
      "2023-03-06 22:14:38,365 - pyffmpeg.FFmpeg - INFO - Shell: True\n"
     ]
    },
    {
     "data": {
      "text/plain": [
       "True"
      ]
     },
     "execution_count": 19,
     "metadata": {},
     "output_type": "execute_result"
    }
   ],
   "source": [
    "# ff.options(f\"\"\"Nightmare.mp4 -vf subtitles=SrtFiles/VIDEO_FILENAME.srt Nightmare_subs.mp4 \"\"\")"
   ]
  },
  {
   "cell_type": "code",
   "execution_count": 23,
   "metadata": {},
   "outputs": [
    {
     "name": "stderr",
     "output_type": "stream",
     "text": [
      "2023-03-06 22:17:21,376 - pyffmpeg.FFmpeg - INFO - inside options\n",
      "2023-03-06 22:17:21,378 - pyffmpeg.FFmpeg - INFO - Options is a String\n",
      "2023-03-06 22:17:21,378 - pyffmpeg.FFmpeg - INFO - Shell: True\n"
     ]
    },
    {
     "data": {
      "text/plain": [
       "True"
      ]
     },
     "execution_count": 23,
     "metadata": {},
     "output_type": "execute_result"
    }
   ],
   "source": [
    "# ff.options(\"-i Nightmare.mp4 -i SrtFiles/VIDEO_FILENAME.srt -c copy -c:s mov_text outfile.mp4\")"
   ]
  },
  {
   "cell_type": "code",
   "execution_count": 38,
   "metadata": {},
   "outputs": [
    {
     "name": "stderr",
     "output_type": "stream",
     "text": [
      "2023-03-06 22:35:23,039 - pyffmpeg.FFmpeg - INFO - inside options\n",
      "2023-03-06 22:35:23,041 - pyffmpeg.FFmpeg - INFO - Options is a String\n",
      "2023-03-06 22:35:23,041 - pyffmpeg.FFmpeg - INFO - Shell: True\n"
     ]
    },
    {
     "data": {
      "text/plain": [
       "True"
      ]
     },
     "execution_count": 38,
     "metadata": {},
     "output_type": "execute_result"
    }
   ],
   "source": [
    "ff.options(f\"-i {subtitle_path} subtitles_1.ass\")"
   ]
  },
  {
   "cell_type": "code",
   "execution_count": 34,
   "metadata": {},
   "outputs": [
    {
     "name": "stderr",
     "output_type": "stream",
     "text": [
      "2023-03-06 22:29:19,941 - pyffmpeg.FFmpeg - INFO - inside options\n",
      "2023-03-06 22:29:19,943 - pyffmpeg.FFmpeg - INFO - Options is a String\n",
      "2023-03-06 22:29:19,944 - pyffmpeg.FFmpeg - INFO - Shell: True\n",
      "2023-03-06 22:29:19,991 - pyffmpeg.FFmpeg - INFO - inside options\n",
      "2023-03-06 22:29:19,992 - pyffmpeg.FFmpeg - INFO - Options is a String\n",
      "2023-03-06 22:29:19,993 - pyffmpeg.FFmpeg - INFO - Shell: True\n"
     ]
    },
    {
     "data": {
      "text/plain": [
       "True"
      ]
     },
     "execution_count": 34,
     "metadata": {},
     "output_type": "execute_result"
    }
   ],
   "source": [
    "ff.options(\"-i SrtFiles/VIDEO_FILENAME.srt subtitles.ass\")\n",
    "ff.options(\"\"\"-i Nightmare.mp4 -vf \"subtitles=subtitles.ass:force_style='Alignment=10,Fontsize=48'\" -crf 1 -c:a copy mysubtitledmovie.mp4\"\"\")"
   ]
  },
  {
   "attachments": {},
   "cell_type": "markdown",
   "metadata": {},
   "source": [
    "# Combined processing"
   ]
  },
  {
   "cell_type": "code",
   "execution_count": 52,
   "metadata": {},
   "outputs": [],
   "source": [
    "# def make_lyric_video(path_to_audio_file:str):\n",
    "    # file_name = os.path.basename(path_to_audio_file)[:-4]\n",
    "    # subtitle_path=transcribe_audio(path_to_audio_file)\n",
    "    # ff.options(f\"\"\"-f lavfi -i color=c=black:s=1920x1080 -i {path_to_audio_file} -c:v libx264 -tune stillimage -pix_fmt yuv420p -shortest -c:a aac -b:a 128k {file_name}.mp4\"\"\")\n",
    "    # ff.options(f\"-i {subtitle_path} {file_name}.ass\")\n",
    "    # ff.options(f\"\"\"-i {file_name}.mp4 -vf \"subtitles={file_name}.ass:force_style='Alignment=10,Fontsize=48'\" -crf 1 -c:a copy {file_name}.mp4\"\"\")"
   ]
  },
  {
   "cell_type": "code",
   "execution_count": 37,
   "metadata": {},
   "outputs": [
    {
     "data": {
      "text/plain": [
       "'Nightmare'"
      ]
     },
     "execution_count": 37,
     "metadata": {},
     "output_type": "execute_result"
    }
   ],
   "source": [
    "os.path.basename('../resources/Nightmare.wav')[:-4]"
   ]
  },
  {
   "cell_type": "code",
   "execution_count": 59,
   "metadata": {},
   "outputs": [],
   "source": [
    "# make_lyric_video('../resources/TakeOnMe.wav')\n",
    "path_to_audio_file='../resources/TakeOnMe.wav'\n",
    "\n",
    "from dataclasses import dataclass\n",
    "import numpy as np\n",
    "import librosa\n",
    "import subprocess as sp\n",
    "from shutil import rmtree\n",
    "import soundfile as sf\n",
    "\n",
    "@dataclass\n",
    "class DeMixedAudio4():\n",
    "    sample_rate: int\n",
    "    bass : np.ndarray\n",
    "    drums : np.ndarray\n",
    "    other : np.ndarray\n",
    "    vocals : np.ndarray\n",
    "\n",
    "@dataclass\n",
    "class DeMixedAudio6():\n",
    "    sample_rate: int\n",
    "    bass : np.ndarray\n",
    "    drums : np.ndarray\n",
    "    other : np.ndarray\n",
    "    vocals : np.ndarray\n",
    "    piano : np.ndarray\n",
    "    guitar : np.ndarray\n",
    "\n",
    "def get_stems(path_to_file,model='htdemucs',output_path='../resources/tmp',delete_temp_files=True):\n",
    "    file_name = os.path.basename(path_to_file)\n",
    "    sp.run([\"python3\", \"-m\", \"demucs.separate\", \"-o\", output_path, \"-n\", model, path_to_file])\n",
    "    # print(\"Demucs done, loading files\")\n",
    "    stems={}\n",
    "    if model in ['htdemucs','htdemucs_ft']:\n",
    "        for stem in ['bass','drums','other','vocals']:\n",
    "            x,sr = librosa.load(os.path.join(output_path, model,file_name[:file_name.find('.')],f\"{stem}.wav\"), sr=None)\n",
    "            stems[stem] = x\n",
    "        if delete_temp_files:\n",
    "            print(\"Deleting temp files\")\n",
    "            rmtree(f\"{output_path}/{model}/{file_name[:file_name.find('.')]}\")\n",
    "        return DeMixedAudio4(sr, bass=stems['bass'], drums=stems['drums'], other=stems['other'], vocals=stems['vocals'])#stems\n",
    "    elif model == 'htdemucs_6s':\n",
    "        for stem in ['bass','drums','other','vocals','piano', 'guitar']:\n",
    "            x,sr = librosa.load(os.path.join(output_path, model,file_name[:file_name.find('.')],f\"{stem}.wav\"), sr=None)\n",
    "            stems[stem] = x\n",
    "        if delete_temp_files:\n",
    "            print(\"Deleting temp files\")\n",
    "            rmtree(f\"{output_path}/{model}/{file_name[:file_name.find('.')]}\")\n",
    "        return DeMixedAudio6(sr, bass=stems['bass'], drums=stems['drums'], other=stems['other'], vocals=stems['vocals'], piano=stems['piano'], guitar=stems['guitar'])#stems\n",
    "    \n",
    "\n",
    "def make_lyric_video(path_to_audio_file:str, whisper_model:str='small.en', run_on_stems:bool=True, delete_tmp_files:bool=True):\n",
    "    file_name = os.path.basename(path_to_audio_file)[:-4]\n",
    "    if run_on_stems:\n",
    "        if not os.path.exists(os.path.join(os.getcwd(),f'../resources/tmp/htdemucs_ft/{file_name}')):\n",
    "            stems = get_stems(path_to_audio_file, model='htdemucs_ft', delete_temp_files=delete_tmp_files)\n",
    "            sf.write(f\"{file_name}.wav\", stems.vocals, stems.sample_rate)\n",
    "        else:\n",
    "            x,sr=librosa.load(os.path.join(os.getcwd(),f'../resources/tmp/htdemucs_ft/{file_name}'),sr=None)\n",
    "            sf.write(f\"{file_name}.wav\", x, sr)\n",
    "        subtitle_path=transcribe_audio(f\"{file_name}.wav\", whisper_model)\n",
    "    else:\n",
    "        subtitle_path=transcribe_audio(path_to_audio_file, whisper_model)\n",
    "    ff.options(f\"\"\"-f lavfi -i color=c=black:s=1920x1080 -i {path_to_audio_file} -c:v libx264 -tune stillimage -pix_fmt yuv420p -shortest -c:a aac -b:a 128k {file_name}_tmp.mp4\"\"\")\n",
    "    ff.options(f\"-i {subtitle_path} {file_name}.ass\")\n",
    "    ff.options(f\"\"\"-i {file_name}_tmp.mp4 -vf \"subtitles={file_name}.ass:force_style='Alignment=10,Fontsize=36'\" -crf 1 -c:a copy {file_name}.mp4\"\"\")"
   ]
  },
  {
   "cell_type": "code",
   "execution_count": 60,
   "metadata": {},
   "outputs": [
    {
     "name": "stdout",
     "output_type": "stream",
     "text": [
      "Selected model is a bag of 4 models. You will see that many progress bars per track.\n",
      "Separated tracks will be stored in /Users/vedant/Desktop/Programming/WMG/scalable-asset-generation-1/resources/tmp/htdemucs_ft\n",
      "Separating track ../resources/TakeOnMe.wav\n"
     ]
    },
    {
     "name": "stderr",
     "output_type": "stream",
     "text": [
      "100%|████████████████████████████████████████████████████████████████████████| 245.7/245.7 [03:21<00:00,  1.22seconds/s]\n",
      "100%|████████████████████████████████████████████████████████████████████████| 245.7/245.7 [03:30<00:00,  1.17seconds/s]\n",
      "100%|████████████████████████████████████████████████████████████████████████| 245.7/245.7 [03:25<00:00,  1.20seconds/s]\n",
      "100%|████████████████████████████████████████████████████████████████████████| 245.7/245.7 [03:19<00:00,  1.23seconds/s]\n"
     ]
    },
    {
     "name": "stdout",
     "output_type": "stream",
     "text": [
      "Whisper model loaded.\n"
     ]
    },
    {
     "name": "stderr",
     "output_type": "stream",
     "text": [
      "/Users/vedant/miniconda3/envs/scalable-asset-generation/lib/python3.10/site-packages/whisper/transcribe.py:113: UserWarning: FP16 is not supported on CPU; using FP32 instead\n",
      "  warnings.warn(\"FP16 is not supported on CPU; using FP32 instead\")\n",
      "2023-03-06 23:54:55,680 - pyffmpeg.FFmpeg - INFO - inside options\n",
      "2023-03-06 23:54:55,683 - pyffmpeg.FFmpeg - INFO - Options is a String\n",
      "2023-03-06 23:54:55,684 - pyffmpeg.FFmpeg - INFO - Shell: True\n",
      "2023-03-06 23:55:12,608 - pyffmpeg.FFmpeg - INFO - inside options\n",
      "2023-03-06 23:55:12,609 - pyffmpeg.FFmpeg - INFO - Options is a String\n",
      "2023-03-06 23:55:12,610 - pyffmpeg.FFmpeg - INFO - Shell: True\n",
      "2023-03-06 23:55:12,643 - pyffmpeg.FFmpeg - INFO - inside options\n",
      "2023-03-06 23:55:12,645 - pyffmpeg.FFmpeg - INFO - Options is a String\n",
      "2023-03-06 23:55:12,646 - pyffmpeg.FFmpeg - INFO - Shell: True\n"
     ]
    }
   ],
   "source": [
    "make_lyric_video('../resources/TakeOnMe.wav', whisper_model='base.en', run_on_stems=True, delete_tmp_files=False)"
   ]
  },
  {
   "cell_type": "code",
   "execution_count": null,
   "metadata": {},
   "outputs": [],
   "source": []
  }
 ],
 "metadata": {
  "kernelspec": {
   "display_name": "scalable-asset-generation",
   "language": "python",
   "name": "python3"
  },
  "language_info": {
   "codemirror_mode": {
    "name": "ipython",
    "version": 3
   },
   "file_extension": ".py",
   "mimetype": "text/x-python",
   "name": "python",
   "nbconvert_exporter": "python",
   "pygments_lexer": "ipython3",
   "version": "3.10.9"
  },
  "orig_nbformat": 4,
  "vscode": {
   "interpreter": {
    "hash": "bf4c79542e7d10b0ff3d3e51bf4ffdbb3a1ac3d24233afb3e0a2f487d25ec48f"
   }
  }
 },
 "nbformat": 4,
 "nbformat_minor": 2
}
