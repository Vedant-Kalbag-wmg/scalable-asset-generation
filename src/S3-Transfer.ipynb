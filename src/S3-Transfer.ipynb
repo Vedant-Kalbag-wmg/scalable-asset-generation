{
 "cells": [
  {
   "cell_type": "code",
   "execution_count": null,
   "id": "42b2d60f-4e76-4f6d-889d-407513f339b1",
   "metadata": {
    "tags": []
   },
   "outputs": [],
   "source": [
    "! pip install s3fs soundfile librosa"
   ]
  },
  {
   "cell_type": "code",
   "execution_count": 1,
   "id": "2981f83a-b2ff-4c41-8fd8-1e20b07568be",
   "metadata": {
    "tags": []
   },
   "outputs": [
    {
     "ename": "ModuleNotFoundError",
     "evalue": "No module named 'soundfile'",
     "output_type": "error",
     "traceback": [
      "\u001b[0;31m---------------------------------------------------------------------------\u001b[0m",
      "\u001b[0;31mModuleNotFoundError\u001b[0m                       Traceback (most recent call last)",
      "Cell \u001b[0;32mIn[1], line 3\u001b[0m\n\u001b[1;32m      1\u001b[0m \u001b[38;5;28;01mimport\u001b[39;00m \u001b[38;5;21;01ms3fs\u001b[39;00m\n\u001b[1;32m      2\u001b[0m \u001b[38;5;28;01mimport\u001b[39;00m \u001b[38;5;21;01mos\u001b[39;00m\n\u001b[0;32m----> 3\u001b[0m \u001b[38;5;28;01mimport\u001b[39;00m \u001b[38;5;21;01msoundfile\u001b[39;00m \u001b[38;5;28;01mas\u001b[39;00m \u001b[38;5;21;01msf\u001b[39;00m\n\u001b[1;32m      4\u001b[0m \u001b[38;5;28;01mimport\u001b[39;00m \u001b[38;5;21;01mlibrosa\u001b[39;00m\n\u001b[1;32m      5\u001b[0m bucket \u001b[38;5;241m=\u001b[39m \u001b[38;5;124m'\u001b[39m\u001b[38;5;124mscalable-asset-generation\u001b[39m\u001b[38;5;124m'\u001b[39m\n",
      "\u001b[0;31mModuleNotFoundError\u001b[0m: No module named 'soundfile'"
     ]
    }
   ],
   "source": [
    "import s3fs\n",
    "import os\n",
    "import soundfile as sf\n",
    "import librosa\n",
    "bucket = 'scalable-asset-generation'\n",
    "path_to_save = 'processed_files'\n",
    "input_folder = os.path.join(os.getcwd(),'..','resources', 'tmp')"
   ]
  },
  {
   "cell_type": "code",
   "execution_count": 5,
   "id": "4f4ac75a-09cf-47d6-9c21-3ce9b350d88f",
   "metadata": {
    "tags": []
   },
   "outputs": [
    {
     "name": "stdout",
     "output_type": "stream",
     "text": [
      "['htdemucs_6s', 'htdemucs_ft', 'htdemucs']\n",
      "/home/ec2-user/SageMaker/scalable-asset-generation/src/../resources/tmp/htdemucs_6s/Nightmare/vocals.wav\n",
      "htdemucs_6s/Nightmare/vocals.wav\n"
     ]
    }
   ],
   "source": [
    "print(os.listdir(input_folder))\n",
    "print(os.path.join(input_folder,d,subdir,file))\n",
    "print(os.path.join(d,subdir,file))"
   ]
  },
  {
   "cell_type": "code",
   "execution_count": 4,
   "id": "1b0b9f83-da5c-4e67-a509-f737beffa7a2",
   "metadata": {
    "tags": []
   },
   "outputs": [],
   "source": [
    "import boto3\n",
    "s3 = boto3.resource('s3')\n"
   ]
  },
  {
   "cell_type": "code",
   "execution_count": 10,
   "id": "3ab45746-cf4d-4964-9a9f-8f8afabcb5c6",
   "metadata": {
    "tags": []
   },
   "outputs": [
    {
     "name": "stdout",
     "output_type": "stream",
     "text": [
      "Moving file from: \n",
      "/home/ec2-user/SageMaker/scalable-asset-generation/src/../resources/tmp/htdemucs_6s/Nightmare/vocals.wav \n",
      " to: \n",
      "scalable-asset-generation/htdemucs_6s/Nightmare/vocals.wav\n",
      "Moving file from: \n",
      "/home/ec2-user/SageMaker/scalable-asset-generation/src/../resources/tmp/htdemucs_6s/Nightmare/guitar.wav \n",
      " to: \n",
      "scalable-asset-generation/htdemucs_6s/Nightmare/guitar.wav\n",
      "Moving file from: \n",
      "/home/ec2-user/SageMaker/scalable-asset-generation/src/../resources/tmp/htdemucs_6s/Nightmare/bass.wav \n",
      " to: \n",
      "scalable-asset-generation/htdemucs_6s/Nightmare/bass.wav\n",
      "Moving file from: \n",
      "/home/ec2-user/SageMaker/scalable-asset-generation/src/../resources/tmp/htdemucs_6s/Nightmare/piano.wav \n",
      " to: \n",
      "scalable-asset-generation/htdemucs_6s/Nightmare/piano.wav\n",
      "Moving file from: \n",
      "/home/ec2-user/SageMaker/scalable-asset-generation/src/../resources/tmp/htdemucs_6s/Nightmare/other.wav \n",
      " to: \n",
      "scalable-asset-generation/htdemucs_6s/Nightmare/other.wav\n",
      "Moving file from: \n",
      "/home/ec2-user/SageMaker/scalable-asset-generation/src/../resources/tmp/htdemucs_6s/Nightmare/drums.wav \n",
      " to: \n",
      "scalable-asset-generation/htdemucs_6s/Nightmare/drums.wav\n",
      "Moving file from: \n",
      "/home/ec2-user/SageMaker/scalable-asset-generation/src/../resources/tmp/htdemucs_ft/Nightmare/vocals.wav \n",
      " to: \n",
      "scalable-asset-generation/htdemucs_ft/Nightmare/vocals.wav\n",
      "Moving file from: \n",
      "/home/ec2-user/SageMaker/scalable-asset-generation/src/../resources/tmp/htdemucs_ft/Nightmare/bass.wav \n",
      " to: \n",
      "scalable-asset-generation/htdemucs_ft/Nightmare/bass.wav\n",
      "Moving file from: \n",
      "/home/ec2-user/SageMaker/scalable-asset-generation/src/../resources/tmp/htdemucs_ft/Nightmare/other.wav \n",
      " to: \n",
      "scalable-asset-generation/htdemucs_ft/Nightmare/other.wav\n",
      "Moving file from: \n",
      "/home/ec2-user/SageMaker/scalable-asset-generation/src/../resources/tmp/htdemucs_ft/Nightmare/drums.wav \n",
      " to: \n",
      "scalable-asset-generation/htdemucs_ft/Nightmare/drums.wav\n"
     ]
    }
   ],
   "source": [
    "for d in os.listdir(input_folder):\n",
    "    for subdir in os.listdir(os.path.join(input_folder,d)):\n",
    "        for file in os.listdir(os.path.join(input_folder,d,subdir)):\n",
    "            print(f\"Moving file from: \\n{os.path.join(input_folder,d,subdir,file)} \\n to: \\n{bucket}/{os.path.join(d,subdir,file)}\")\n",
    "            s3.meta.client.upload_file(os.path.join(input_folder,d,subdir,file), bucket, os.path.join(d,subdir,file))\n",
    "            # print(os.path.join(d,subdir,file))\n",
    "            "
   ]
  },
  {
   "cell_type": "code",
   "execution_count": 6,
   "id": "d0480708-7643-412b-8beb-c349d5314f43",
   "metadata": {
    "tags": []
   },
   "outputs": [
    {
     "data": {
      "text/plain": [
       "'/home/ec2-user/SageMaker/scalable-asset-generation/src/../resources/tmp/htdemucs'"
      ]
     },
     "execution_count": 6,
     "metadata": {},
     "output_type": "execute_result"
    }
   ],
   "source": [
    "subdir"
   ]
  },
  {
   "cell_type": "code",
   "execution_count": 17,
   "id": "dbe40c43-2f9e-4fa1-b879-9512e09b6c83",
   "metadata": {
    "tags": []
   },
   "outputs": [
    {
     "data": {
      "text/plain": [
       "[]"
      ]
     },
     "execution_count": 17,
     "metadata": {},
     "output_type": "execute_result"
    }
   ],
   "source": [
    "\n",
    "s3.listdir('scalable-asset-generation')"
   ]
  },
  {
   "cell_type": "code",
   "execution_count": null,
   "id": "5cbdba41-4c9c-450c-8f3b-3dd48f8d4e92",
   "metadata": {},
   "outputs": [],
   "source": [
    "bucket = 'scalable-asset-generation'\n",
    "path_to_save = 'processed_files'\n",
    "\n",
    "with s3.open(os.path.join(bucket,path_to_save,filename), 'w') as f:\n",
    "    sf.write(f, x, sr)"
   ]
  }
 ],
 "metadata": {
  "kernelspec": {
   "display_name": "conda_python3",
   "language": "python",
   "name": "conda_python3"
  },
  "language_info": {
   "codemirror_mode": {
    "name": "ipython",
    "version": 3
   },
   "file_extension": ".py",
   "mimetype": "text/x-python",
   "name": "python",
   "nbconvert_exporter": "python",
   "pygments_lexer": "ipython3",
   "version": "3.10.8"
  }
 },
 "nbformat": 4,
 "nbformat_minor": 5
}
