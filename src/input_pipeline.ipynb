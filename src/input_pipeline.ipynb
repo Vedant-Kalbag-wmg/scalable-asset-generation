{
 "cells": [
  {
   "cell_type": "code",
   "execution_count": 1,
   "metadata": {
    "tags": []
   },
   "outputs": [
    {
     "name": "stdout",
     "output_type": "stream",
     "text": [
      "Looking in indexes: https://pypi.org/simple, https://pip.repos.neuron.amazonaws.com\n",
      "Requirement already satisfied: librosa in /home/ec2-user/anaconda3/envs/pytorch_p39/lib/python3.9/site-packages (0.10.0)\n",
      "Requirement already satisfied: numpy in /home/ec2-user/anaconda3/envs/pytorch_p39/lib/python3.9/site-packages (1.23.5)\n",
      "Requirement already satisfied: pandas in /home/ec2-user/anaconda3/envs/pytorch_p39/lib/python3.9/site-packages (1.4.4)\n",
      "Requirement already satisfied: demucs in /home/ec2-user/anaconda3/envs/pytorch_p39/lib/python3.9/site-packages (4.0.0)\n",
      "Requirement already satisfied: soundfile in /home/ec2-user/anaconda3/envs/pytorch_p39/lib/python3.9/site-packages (0.12.1)\n",
      "Requirement already satisfied: pyfluidsynth in /home/ec2-user/anaconda3/envs/pytorch_p39/lib/python3.9/site-packages (1.3.0)\n",
      "Requirement already satisfied: numba>=0.51.0 in /home/ec2-user/anaconda3/envs/pytorch_p39/lib/python3.9/site-packages (from librosa) (0.56.4)\n",
      "Requirement already satisfied: typing-extensions>=4.1.1 in /home/ec2-user/anaconda3/envs/pytorch_p39/lib/python3.9/site-packages (from librosa) (4.4.0)\n",
      "Requirement already satisfied: lazy-loader>=0.1 in /home/ec2-user/anaconda3/envs/pytorch_p39/lib/python3.9/site-packages (from librosa) (0.1)\n",
      "Requirement already satisfied: audioread>=2.1.9 in /home/ec2-user/anaconda3/envs/pytorch_p39/lib/python3.9/site-packages (from librosa) (3.0.0)\n",
      "Requirement already satisfied: joblib>=0.14 in /home/ec2-user/anaconda3/envs/pytorch_p39/lib/python3.9/site-packages (from librosa) (1.2.0)\n",
      "Requirement already satisfied: decorator>=4.3.0 in /home/ec2-user/anaconda3/envs/pytorch_p39/lib/python3.9/site-packages (from librosa) (5.1.1)\n",
      "Requirement already satisfied: soxr>=0.3.2 in /home/ec2-user/anaconda3/envs/pytorch_p39/lib/python3.9/site-packages (from librosa) (0.3.3)\n",
      "Requirement already satisfied: pooch>=1.0 in /home/ec2-user/anaconda3/envs/pytorch_p39/lib/python3.9/site-packages (from librosa) (1.6.0)\n",
      "Requirement already satisfied: scipy>=1.2.0 in /home/ec2-user/anaconda3/envs/pytorch_p39/lib/python3.9/site-packages (from librosa) (1.8.1)\n",
      "Requirement already satisfied: scikit-learn>=0.20.0 in /home/ec2-user/anaconda3/envs/pytorch_p39/lib/python3.9/site-packages (from librosa) (1.0)\n",
      "Requirement already satisfied: msgpack>=1.0 in /home/ec2-user/anaconda3/envs/pytorch_p39/lib/python3.9/site-packages (from librosa) (1.0.4)\n",
      "Requirement already satisfied: python-dateutil>=2.8.1 in /home/ec2-user/anaconda3/envs/pytorch_p39/lib/python3.9/site-packages (from pandas) (2.8.2)\n",
      "Requirement already satisfied: pytz>=2020.1 in /home/ec2-user/anaconda3/envs/pytorch_p39/lib/python3.9/site-packages (from pandas) (2022.7)\n",
      "Requirement already satisfied: diffq>=0.2.1 in /home/ec2-user/anaconda3/envs/pytorch_p39/lib/python3.9/site-packages (from demucs) (0.2.3)\n",
      "Requirement already satisfied: tqdm in /home/ec2-user/anaconda3/envs/pytorch_p39/lib/python3.9/site-packages (from demucs) (4.63.2)\n",
      "Requirement already satisfied: pyyaml in /home/ec2-user/anaconda3/envs/pytorch_p39/lib/python3.9/site-packages (from demucs) (5.4.1)\n",
      "Requirement already satisfied: einops in /home/ec2-user/anaconda3/envs/pytorch_p39/lib/python3.9/site-packages (from demucs) (0.6.0)\n",
      "Requirement already satisfied: torchaudio>=0.8 in /home/ec2-user/anaconda3/envs/pytorch_p39/lib/python3.9/site-packages (from demucs) (0.13.1)\n",
      "Requirement already satisfied: julius>=0.2.3 in /home/ec2-user/anaconda3/envs/pytorch_p39/lib/python3.9/site-packages (from demucs) (0.2.7)\n",
      "Requirement already satisfied: torch>=1.8.1 in /home/ec2-user/anaconda3/envs/pytorch_p39/lib/python3.9/site-packages (from demucs) (1.13.1)\n",
      "Requirement already satisfied: dora-search in /home/ec2-user/anaconda3/envs/pytorch_p39/lib/python3.9/site-packages (from demucs) (0.1.11)\n",
      "Requirement already satisfied: lameenc>=1.2 in /home/ec2-user/anaconda3/envs/pytorch_p39/lib/python3.9/site-packages (from demucs) (1.4.2)\n",
      "Requirement already satisfied: openunmix in /home/ec2-user/anaconda3/envs/pytorch_p39/lib/python3.9/site-packages (from demucs) (1.2.1)\n",
      "Requirement already satisfied: cffi>=1.0 in /home/ec2-user/anaconda3/envs/pytorch_p39/lib/python3.9/site-packages (from soundfile) (1.15.1)\n",
      "Requirement already satisfied: pycparser in /home/ec2-user/anaconda3/envs/pytorch_p39/lib/python3.9/site-packages (from cffi>=1.0->soundfile) (2.21)\n",
      "Requirement already satisfied: Cython in /home/ec2-user/anaconda3/envs/pytorch_p39/lib/python3.9/site-packages (from diffq>=0.2.1->demucs) (0.29.33)\n",
      "Requirement already satisfied: llvmlite<0.40,>=0.39.0dev0 in /home/ec2-user/anaconda3/envs/pytorch_p39/lib/python3.9/site-packages (from numba>=0.51.0->librosa) (0.39.1)\n",
      "Requirement already satisfied: setuptools in /home/ec2-user/anaconda3/envs/pytorch_p39/lib/python3.9/site-packages (from numba>=0.51.0->librosa) (65.6.3)\n",
      "Requirement already satisfied: packaging>=20.0 in /home/ec2-user/anaconda3/envs/pytorch_p39/lib/python3.9/site-packages (from pooch>=1.0->librosa) (21.3)\n",
      "Requirement already satisfied: requests>=2.19.0 in /home/ec2-user/anaconda3/envs/pytorch_p39/lib/python3.9/site-packages (from pooch>=1.0->librosa) (2.28.1)\n",
      "Requirement already satisfied: appdirs>=1.3.0 in /home/ec2-user/anaconda3/envs/pytorch_p39/lib/python3.9/site-packages (from pooch>=1.0->librosa) (1.4.4)\n",
      "Requirement already satisfied: six>=1.5 in /home/ec2-user/anaconda3/envs/pytorch_p39/lib/python3.9/site-packages (from python-dateutil>=2.8.1->pandas) (1.16.0)\n",
      "Requirement already satisfied: threadpoolctl>=2.0.0 in /home/ec2-user/anaconda3/envs/pytorch_p39/lib/python3.9/site-packages (from scikit-learn>=0.20.0->librosa) (3.1.0)\n",
      "Requirement already satisfied: treetable in /home/ec2-user/anaconda3/envs/pytorch_p39/lib/python3.9/site-packages (from dora-search->demucs) (0.2.5)\n",
      "Requirement already satisfied: omegaconf in /home/ec2-user/anaconda3/envs/pytorch_p39/lib/python3.9/site-packages (from dora-search->demucs) (2.1.1)\n",
      "Requirement already satisfied: retrying in /home/ec2-user/anaconda3/envs/pytorch_p39/lib/python3.9/site-packages (from dora-search->demucs) (1.3.4)\n",
      "Requirement already satisfied: submitit in /home/ec2-user/anaconda3/envs/pytorch_p39/lib/python3.9/site-packages (from dora-search->demucs) (1.4.5)\n",
      "Requirement already satisfied: pyparsing!=3.0.5,>=2.0.2 in /home/ec2-user/anaconda3/envs/pytorch_p39/lib/python3.9/site-packages (from packaging>=20.0->pooch>=1.0->librosa) (3.0.9)\n",
      "Requirement already satisfied: idna<4,>=2.5 in /home/ec2-user/anaconda3/envs/pytorch_p39/lib/python3.9/site-packages (from requests>=2.19.0->pooch>=1.0->librosa) (3.4)\n",
      "Requirement already satisfied: certifi>=2017.4.17 in /home/ec2-user/anaconda3/envs/pytorch_p39/lib/python3.9/site-packages (from requests>=2.19.0->pooch>=1.0->librosa) (2022.12.7)\n",
      "Requirement already satisfied: urllib3<1.27,>=1.21.1 in /home/ec2-user/anaconda3/envs/pytorch_p39/lib/python3.9/site-packages (from requests>=2.19.0->pooch>=1.0->librosa) (1.26.8)\n",
      "Requirement already satisfied: charset-normalizer<3,>=2 in /home/ec2-user/anaconda3/envs/pytorch_p39/lib/python3.9/site-packages (from requests>=2.19.0->pooch>=1.0->librosa) (2.1.1)\n",
      "Requirement already satisfied: antlr4-python3-runtime==4.8 in /home/ec2-user/anaconda3/envs/pytorch_p39/lib/python3.9/site-packages (from omegaconf->dora-search->demucs) (4.8)\n",
      "Requirement already satisfied: cloudpickle>=1.2.1 in /home/ec2-user/anaconda3/envs/pytorch_p39/lib/python3.9/site-packages (from submitit->dora-search->demucs) (2.2.0)\n",
      "Loaded plugins: dkms-build-requires, extras_suggestions, langpacks, priorities,\n",
      "              : update-motd, versionlock\n",
      "amzn2-core                                               | 3.7 kB     00:00     \n",
      "https://download.docker.com/linux/centos/2/x86_64/stable/repodata/repomd.xml: [Errno 14] HTTPS Error 404 - Not Found\n",
      "Trying other mirror.\n",
      "neuron                                                   | 2.9 kB     00:00     \n",
      "61 packages excluded due to repository priority protections\n",
      "Package libsndfile-1.0.25-12.amzn2.1.x86_64 already installed and latest version\n",
      "Nothing to do\n"
     ]
    }
   ],
   "source": [
    "! pip install librosa numpy pandas demucs soundfile pyfluidsynth\n",
    "! sudo yum install libsndfile"
   ]
  },
  {
   "cell_type": "code",
   "execution_count": 12,
   "metadata": {
    "tags": []
   },
   "outputs": [],
   "source": [
    "import librosa\n",
    "import numpy as np\n",
    "import os\n",
    "import pandas as pd\n",
    "import io\n",
    "from pathlib import Path\n",
    "from shutil import rmtree\n",
    "import subprocess as sp\n",
    "import soundfile as sf\n"
   ]
  },
  {
   "cell_type": "markdown",
   "metadata": {
    "tags": []
   },
   "source": [
    "# Source Separation using Demucs"
   ]
  },
  {
   "cell_type": "code",
   "execution_count": 3,
   "metadata": {
    "tags": []
   },
   "outputs": [],
   "source": [
    "from dataclasses import dataclass\n",
    "\n",
    "@dataclass\n",
    "class DeMixedAudio4():\n",
    "    sample_rate: int\n",
    "    bass : np.ndarray\n",
    "    drums : np.ndarray\n",
    "    other : np.ndarray\n",
    "    vocals : np.ndarray\n",
    "\n",
    "@dataclass\n",
    "class DeMixedAudio6():\n",
    "    sample_rate: int\n",
    "    bass : np.ndarray\n",
    "    drums : np.ndarray\n",
    "    other : np.ndarray\n",
    "    vocals : np.ndarray\n",
    "    piano : np.ndarray\n",
    "    guitar : np.ndarray"
   ]
  },
  {
   "cell_type": "markdown",
   "metadata": {},
   "source": [
    "sp.run([\"python3\", \"-m\", \"demucs.separate\", \"-o\", \"../resources/tmp\", \"-n\", model, path_to_file])- Does the model work with different sample rates? YES\n",
    "- Does the model output have the same sample rate as the input? - NO: ALWAYS 44100\n",
    "- If so TODO: find a way to find the input native sample rate of the audio and use this to re-load the stems\n",
    "\n",
    "- The output volumes are different since the input audio is z score normalised by demucs"
   ]
  },
  {
   "cell_type": "code",
   "execution_count": 4,
   "metadata": {
    "tags": []
   },
   "outputs": [],
   "source": [
    "# file_name = os.path.basename(os.path.join(os.getcwd(),'..','resources/test_file.wav'))\n",
    "# sp.run([\"python3\", \"-m\", \"demucs.separate\", \"-o\", \"../resources/tmp\", \"-n\", \"htdemucs_6s\", os.path.join(os.getcwd(),'..','resources/test_file.wav')])\n",
    "# print(\"Demucs done, loading files\")"
   ]
  },
  {
   "cell_type": "code",
   "execution_count": 5,
   "metadata": {
    "tags": []
   },
   "outputs": [],
   "source": [
    "# sp.run([\"python3\", \"-m\", \"demucs.separate\", \"-o\", \"../resources/tmp\", \"-n\", model, path_to_file])"
   ]
  },
  {
   "cell_type": "code",
   "execution_count": 6,
   "metadata": {
    "tags": []
   },
   "outputs": [],
   "source": [
    "def get_stems(path_to_file,model='htdemucs',delete_temp_files=True):\n",
    "    file_name = os.path.basename(path_to_file)\n",
    "    sp.run([\"python3\", \"-m\", \"demucs.separate\", \"-o\", \"../resources/tmp\", \"-n\", model, path_to_file])\n",
    "    # print(\"Demucs done, loading files\")\n",
    "    stems={}\n",
    "    if model in ['htdemucs','htdemucs_ft']:\n",
    "        for stem in ['bass','drums','other','vocals']:\n",
    "            x,sr = librosa.load(os.path.join(\"../resources/tmp\", model,file_name[:file_name.find('.')],f\"{stem}.wav\"), sr=None)\n",
    "            stems[stem] = x\n",
    "        if delete_temp_files:\n",
    "            print(\"Deleting temp files\")\n",
    "            rmtree(f\"../resources/tmp/{model}/{file_name[:file_name.find('.')]}\")\n",
    "        return DeMixedAudio4(sr, bass=stems['bass'], drums=stems['drums'], other=stems['other'], vocals=stems['vocals'])#stems\n",
    "    elif model == 'htdemucs_6s':\n",
    "        for stem in ['bass','drums','other','vocals','piano', 'guitar']:\n",
    "            x,sr = librosa.load(os.path.join(\"../resources/tmp\", model,file_name[:file_name.find('.')],f\"{stem}.wav\"), sr=None)\n",
    "            stems[stem] = x\n",
    "        if delete_temp_files:\n",
    "            print(\"Deleting temp files\")\n",
    "            rmtree(f\"../resources/tmp/{model}/{file_name[:file_name.find('.')]}\")\n",
    "        return DeMixedAudio6(sr, bass=stems['bass'], drums=stems['drums'], other=stems['other'], vocals=stems['vocals'], piano=stems['piano'], guitar=stems['guitar'])#stems"
   ]
  },
  {
   "cell_type": "code",
   "execution_count": 31,
   "metadata": {
    "tags": []
   },
   "outputs": [
    {
     "name": "stderr",
     "output_type": "stream",
     "text": [
      "ffprobe: error while loading shared libraries: libopenh264.so.5: cannot open shared object file: No such file or directory\n"
     ]
    },
    {
     "name": "stdout",
     "output_type": "stream",
     "text": [
      "Selected model is a bag of 1 models. You will see that many progress bars per track.\n",
      "Separated tracks will be stored in /home/ec2-user/SageMaker/scalable-asset-generation/resources/tmp/htdemucs_6s\n",
      "Separating track /home/ec2-user/SageMaker/scalable-asset-generation/src/../resources/WhenTheLeveeBreaks.wav\n"
     ]
    },
    {
     "name": "stderr",
     "output_type": "stream",
     "text": [
      "100%|████████████████████████████████████████████████████████████████████████| 432.9/432.9 [00:17<00:00, 24.63seconds/s]\n"
     ]
    },
    {
     "name": "stdout",
     "output_type": "stream",
     "text": [
      "Demucs done, loading files\n"
     ]
    }
   ],
   "source": [
    "songname='WhenTheLeveeBreaks'\n",
    "song = get_stems(os.path.join(os.getcwd(),'..',f'resources/{songname}.wav'), model='htdemucs_6s', delete_temp_files=False)"
   ]
  },
  {
   "cell_type": "code",
   "execution_count": 32,
   "metadata": {
    "tags": []
   },
   "outputs": [
    {
     "data": {
      "text/plain": [
       "DeMixedAudio6(sample_rate=44100, bass=array([0., 0., 0., ..., 0., 0., 0.], dtype=float32), drums=array([-1.5258789e-05, -1.5258789e-05, -4.5776367e-05, ...,\n",
       "        0.0000000e+00,  0.0000000e+00,  0.0000000e+00], dtype=float32), other=array([0., 0., 0., ..., 0., 0., 0.], dtype=float32), vocals=array([0., 0., 0., ..., 0., 0., 0.], dtype=float32), piano=array([0., 0., 0., ..., 0., 0., 0.], dtype=float32), guitar=array([1.5258789e-05, 1.5258789e-05, 1.5258789e-05, ..., 0.0000000e+00,\n",
       "       0.0000000e+00, 0.0000000e+00], dtype=float32))"
      ]
     },
     "execution_count": 32,
     "metadata": {},
     "output_type": "execute_result"
    }
   ],
   "source": [
    "song"
   ]
  },
  {
   "cell_type": "code",
   "execution_count": 33,
   "metadata": {
    "tags": []
   },
   "outputs": [],
   "source": [
    "melodic_line = song.guitar + song.bass+ song.other + song.piano\n",
    "sf.write(os.path.join(os.getcwd(), '..',f'resources/{songname}_melodicline.wav'),melodic_line, song.sample_rate)\n",
    "\n",
    "vocal = song.vocals\n",
    "sf.write(os.path.join(os.getcwd(), '..',f'resources/{songname}_vocal.wav'),vocal, song.sample_rate)"
   ]
  },
  {
   "cell_type": "markdown",
   "metadata": {},
   "source": [
    "# Pop2Piano"
   ]
  },
  {
   "cell_type": "code",
   "execution_count": null,
   "metadata": {
    "tags": []
   },
   "outputs": [],
   "source": [
    "!apt-get install -y fluidsynth\n",
    "!git clone https://github.com/sweetcocoa/pop2piano/\n",
    "!cd pop2piano\n",
    "!pip install pretty-midi==0.2.9 omegaconf==2.1.1 youtube-dl==2021.12.17 transformers==4.16.1 pytorch-lightning==1.8.4 essentia==2.1b6.dev609 note-seq==0.0.3 pyFluidSynth==1.3.0\n",
    "!wget https://github.com/sweetcocoa/pop2piano/releases/download/dpi_2k_epoch/model-1999-val_0.67311615.ckpt"
   ]
  },
  {
   "cell_type": "code",
   "execution_count": 15,
   "metadata": {
    "tags": []
   },
   "outputs": [
    {
     "name": "stderr",
     "output_type": "stream",
     "text": [
      "[   INFO   ] MusicExtractorSVM: no classifier models were configured by default\n"
     ]
    }
   ],
   "source": [
    "import os \n",
    "import sys\n",
    "sys.path.append(\"pop2piano\")\n",
    "import glob\n",
    "import random\n",
    "\n",
    "import torch\n",
    "import torchaudio\n",
    "import librosa\n",
    "import numpy as np\n",
    "import pandas as pd\n",
    "import IPython.display as ipd\n",
    "import soundfile as sf\n",
    "# from google.colab import files\n",
    "\n",
    "from tqdm.auto import tqdm\n",
    "from omegaconf import OmegaConf\n",
    "import note_seq\n",
    "\n",
    "from utils.dsp import get_stereo\n",
    "from utils.demo import download_youtube\n",
    "from transformer_wrapper import TransformerWrapper\n",
    "from midi_tokenizer import MidiTokenizer, extrapolate_beat_times\n",
    "from preprocess.beat_quantizer import extract_rhythm, interpolate_beat_times\n",
    "\n",
    "from mido import MidiFile"
   ]
  },
  {
   "cell_type": "code",
   "execution_count": null,
   "metadata": {
    "tags": []
   },
   "outputs": [],
   "source": [
    "# device = \"cuda\" if torch.cuda.is_available() else \"cpu\"\n",
    "# config = OmegaConf.load(\"pop2piano/config.yaml\")\n",
    "# wrapper = TransformerWrapper(config)\n",
    "# wrapper = wrapper.load_from_checkpoint(\"model-1999-val_0.67311615.ckpt\", config=config).to(device)\n",
    "# model = \"dpipqxiy\"\n",
    "\n",
    "# composer='composer1'\n",
    "# wrapper.eval()"
   ]
  },
  {
   "cell_type": "code",
   "execution_count": null,
   "metadata": {
    "tags": []
   },
   "outputs": [],
   "source": [
    "# pm, composer, mix_path, midi_path = wrapper.generate(\n",
    "#     audio_path=os.path.join(os.getcwd(),'..','resources/test_file.wav'), \n",
    "#     composer=composer, \n",
    "#     model=model,\n",
    "#     show_plot=False, \n",
    "#     save_midi=True, \n",
    "#     save_mix=False, \n",
    "# )\n",
    "# # note_seq.plot_sequence(note_seq.midi_to_note_sequence(pm))"
   ]
  },
  {
   "cell_type": "code",
   "execution_count": 16,
   "metadata": {
    "tags": []
   },
   "outputs": [],
   "source": [
    "def get_piano(path_to_file, composer='composer1', delete_temp_files=True):\n",
    "    device = \"cuda\" if torch.cuda.is_available() else \"cpu\"\n",
    "    config = OmegaConf.load(\"pop2piano/config.yaml\")\n",
    "    wrapper = TransformerWrapper(config)\n",
    "    wrapper = wrapper.load_from_checkpoint(\"model-1999-val_0.67311615.ckpt\", config=config).to(device)\n",
    "    model = \"dpipqxiy\"\n",
    "\n",
    "    wrapper.eval()\n",
    "    pm, composer, mix_path, midi_path = wrapper.generate(\n",
    "        audio_path=path_to_file, \n",
    "        composer=composer, \n",
    "        model=model,\n",
    "        show_plot=False, \n",
    "        save_midi=True, \n",
    "        save_mix=False, \n",
    "    )\n",
    "    midi_file = MidiFile(midi_path)\n",
    "    if delete_temp_files:\n",
    "        os.remove(midi_path)\n",
    "    \n",
    "    return midi_file"
   ]
  },
  {
   "cell_type": "code",
   "execution_count": 35,
   "metadata": {
    "tags": []
   },
   "outputs": [],
   "source": [
    "_ = get_piano(f'../resources/{songname}.wav',composer='composer1', delete_temp_files=False)\n",
    "_ = get_piano(f'../resources/{songname}_melodicline.wav',composer='composer1', delete_temp_files=False)\n",
    "_ = get_piano(f'../resources/{songname}_vocal.wav',composer='composer1', delete_temp_files=False)"
   ]
  },
  {
   "cell_type": "code",
   "execution_count": 36,
   "metadata": {
    "tags": []
   },
   "outputs": [],
   "source": [
    "# midi = get_piano('../resources/test_resources/test_file-48000.wav')\n",
    "midi = get_piano(f'../resources/{songname}_vocal.wav',composer='composer1', delete_temp_files=False)\n",
    "# midi"
   ]
  },
  {
   "cell_type": "markdown",
   "metadata": {},
   "source": [
    "# Output"
   ]
  },
  {
   "cell_type": "code",
   "execution_count": null,
   "metadata": {
    "tags": []
   },
   "outputs": [],
   "source": [
    "acapella = song.vocals"
   ]
  },
  {
   "cell_type": "code",
   "execution_count": null,
   "metadata": {
    "tags": []
   },
   "outputs": [],
   "source": [
    "acapella"
   ]
  },
  {
   "cell_type": "markdown",
   "metadata": {},
   "source": [
    "# Stem gain testing"
   ]
  },
  {
   "cell_type": "code",
   "execution_count": null,
   "metadata": {
    "tags": []
   },
   "outputs": [],
   "source": [
    "!pip install pyloudnorm"
   ]
  },
  {
   "cell_type": "code",
   "execution_count": null,
   "metadata": {
    "tags": []
   },
   "outputs": [],
   "source": [
    "import pyloudnorm as pyln"
   ]
  },
  {
   "cell_type": "code",
   "execution_count": null,
   "metadata": {
    "tags": []
   },
   "outputs": [],
   "source": [
    "meter = pyln.Meter(song.sample_rate) # create BS.1770 meter\n",
    "meter.integrated_loudness(song.vocals) # measure loudness"
   ]
  },
  {
   "cell_type": "code",
   "execution_count": null,
   "metadata": {
    "tags": []
   },
   "outputs": [],
   "source": [
    "# Original track loudness\n",
    "meter.integrated_loudness(librosa.load(os.path.join(os.getcwd(),'..','resources/test_file.wav'))[0])"
   ]
  },
  {
   "cell_type": "code",
   "execution_count": null,
   "metadata": {
    "tags": []
   },
   "outputs": [],
   "source": [
    "# Reconstructed track loudness\n",
    "meter.integrated_loudness(song.vocals + song.other + song.bass + song.drums)"
   ]
  },
  {
   "cell_type": "code",
   "execution_count": null,
   "metadata": {},
   "outputs": [],
   "source": [
    "x,sr = librosa.load(os.path.join(os.getcwd(),'..','resources/test_file.wav'), sr=None)\n",
    "\n",
    "x_48k = librosa.resample(x, orig_sr=sr, target_sr=48000)"
   ]
  },
  {
   "cell_type": "code",
   "execution_count": null,
   "metadata": {
    "tags": []
   },
   "outputs": [],
   "source": [
    "import soundfile as sf\n",
    "sf.write('../resources/test_resources/test_file-48000.wav',x_48k, 48000)"
   ]
  },
  {
   "cell_type": "code",
   "execution_count": null,
   "metadata": {
    "tags": []
   },
   "outputs": [],
   "source": [
    "x_test,sr_test = librosa.load('../resources/test_resources/test_file-48000.wav', sr=None)"
   ]
  },
  {
   "cell_type": "code",
   "execution_count": null,
   "metadata": {},
   "outputs": [],
   "source": [
    "sr_test"
   ]
  },
  {
   "cell_type": "code",
   "execution_count": null,
   "metadata": {
    "tags": []
   },
   "outputs": [],
   "source": [
    "song = get_stems(os.path.join(os.getcwd(),'..','resources/test_resources/test_file-48000.wav'))"
   ]
  },
  {
   "cell_type": "markdown",
   "metadata": {},
   "source": [
    "Humanization- https://github.com/erwald/rachel"
   ]
  },
  {
   "cell_type": "markdown",
   "metadata": {},
   "source": [
    "# Processing Pipeline"
   ]
  },
  {
   "cell_type": "code",
   "execution_count": null,
   "metadata": {},
   "outputs": [],
   "source": [
    "def process_file(path_to_song:str, output_folder_path:str, )"
   ]
  }
 ],
 "metadata": {
  "kernelspec": {
   "display_name": "conda_pytorch_p39",
   "language": "python",
   "name": "conda_pytorch_p39"
  },
  "language_info": {
   "codemirror_mode": {
    "name": "ipython",
    "version": 3
   },
   "file_extension": ".py",
   "mimetype": "text/x-python",
   "name": "python",
   "nbconvert_exporter": "python",
   "pygments_lexer": "ipython3",
   "version": "3.9.15"
  },
  "vscode": {
   "interpreter": {
    "hash": "bf4c79542e7d10b0ff3d3e51bf4ffdbb3a1ac3d24233afb3e0a2f487d25ec48f"
   }
  }
 },
 "nbformat": 4,
 "nbformat_minor": 4
}
