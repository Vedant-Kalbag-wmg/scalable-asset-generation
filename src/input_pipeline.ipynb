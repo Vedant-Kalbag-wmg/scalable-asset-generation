{
 "cells": [
  {
   "cell_type": "code",
   "execution_count": 2,
   "metadata": {},
   "outputs": [
    {
     "name": "stdout",
     "output_type": "stream",
     "text": [
      "Requirement already satisfied: librosa in /Users/vedant/miniconda3/envs/scalable-asset-generation/lib/python3.10/site-packages (0.9.2)\n",
      "Requirement already satisfied: numpy in /Users/vedant/miniconda3/envs/scalable-asset-generation/lib/python3.10/site-packages (1.23.5)\n",
      "Requirement already satisfied: pandas in /Users/vedant/miniconda3/envs/scalable-asset-generation/lib/python3.10/site-packages (1.5.3)\n",
      "Collecting demucs\n",
      "  Downloading demucs-4.0.0.tar.gz (1.2 MB)\n",
      "\u001b[2K     \u001b[90m━━━━━━━━━━━━━━━━━━━━━━━━━━━━━━━━━━━━━━━━\u001b[0m \u001b[32m1.2/1.2 MB\u001b[0m \u001b[31m11.6 MB/s\u001b[0m eta \u001b[36m0:00:00\u001b[0ma \u001b[36m0:00:01\u001b[0m\n",
      "\u001b[?25h  Preparing metadata (setup.py) ... \u001b[?25ldone\n",
      "\u001b[?25hRequirement already satisfied: scipy>=1.2.0 in /Users/vedant/miniconda3/envs/scalable-asset-generation/lib/python3.10/site-packages (from librosa) (1.10.0)\n",
      "Requirement already satisfied: packaging>=20.0 in /Users/vedant/miniconda3/envs/scalable-asset-generation/lib/python3.10/site-packages (from librosa) (22.0)\n",
      "Requirement already satisfied: scikit-learn>=0.19.1 in /Users/vedant/miniconda3/envs/scalable-asset-generation/lib/python3.10/site-packages (from librosa) (1.2.1)\n",
      "Requirement already satisfied: resampy>=0.2.2 in /Users/vedant/miniconda3/envs/scalable-asset-generation/lib/python3.10/site-packages (from librosa) (0.4.2)\n",
      "Requirement already satisfied: numba>=0.45.1 in /Users/vedant/miniconda3/envs/scalable-asset-generation/lib/python3.10/site-packages (from librosa) (0.56.4)\n",
      "Requirement already satisfied: decorator>=4.0.10 in /Users/vedant/miniconda3/envs/scalable-asset-generation/lib/python3.10/site-packages (from librosa) (5.1.1)\n",
      "Requirement already satisfied: joblib>=0.14 in /Users/vedant/miniconda3/envs/scalable-asset-generation/lib/python3.10/site-packages (from librosa) (1.2.0)\n",
      "Requirement already satisfied: pooch>=1.0 in /Users/vedant/miniconda3/envs/scalable-asset-generation/lib/python3.10/site-packages (from librosa) (1.6.0)\n",
      "Requirement already satisfied: soundfile>=0.10.2 in /Users/vedant/miniconda3/envs/scalable-asset-generation/lib/python3.10/site-packages (from librosa) (0.12.1)\n",
      "Requirement already satisfied: audioread>=2.1.9 in /Users/vedant/miniconda3/envs/scalable-asset-generation/lib/python3.10/site-packages (from librosa) (3.0.0)\n",
      "Requirement already satisfied: pytz>=2020.1 in /Users/vedant/miniconda3/envs/scalable-asset-generation/lib/python3.10/site-packages (from pandas) (2022.7.1)\n",
      "Requirement already satisfied: python-dateutil>=2.8.1 in /Users/vedant/miniconda3/envs/scalable-asset-generation/lib/python3.10/site-packages (from pandas) (2.8.2)\n",
      "Collecting dora-search\n",
      "  Downloading dora_search-0.1.11.tar.gz (87 kB)\n",
      "\u001b[2K     \u001b[90m━━━━━━━━━━━━━━━━━━━━━━━━━━━━━━━━━━━━━━━━\u001b[0m \u001b[32m87.0/87.0 kB\u001b[0m \u001b[31m3.3 MB/s\u001b[0m eta \u001b[36m0:00:00\u001b[0m\n",
      "\u001b[?25h  Installing build dependencies ... \u001b[?25ldone\n",
      "\u001b[?25h  Getting requirements to build wheel ... \u001b[?25ldone\n",
      "\u001b[?25h  Preparing metadata (pyproject.toml) ... \u001b[?25ldone\n",
      "\u001b[?25hCollecting diffq>=0.2.1\n",
      "  Downloading diffq-0.2.3-cp310-cp310-macosx_10_9_x86_64.whl (106 kB)\n",
      "\u001b[2K     \u001b[90m━━━━━━━━━━━━━━━━━━━━━━━━━━━━━━━━━━━━━━━\u001b[0m \u001b[32m106.1/106.1 kB\u001b[0m \u001b[31m3.4 MB/s\u001b[0m eta \u001b[36m0:00:00\u001b[0m\n",
      "\u001b[?25hCollecting einops\n",
      "  Downloading einops-0.6.0-py3-none-any.whl (41 kB)\n",
      "\u001b[2K     \u001b[90m━━━━━━━━━━━━━━━━━━━━━━━━━━━━━━━━━━━━━━━━\u001b[0m \u001b[32m41.6/41.6 kB\u001b[0m \u001b[31m1.3 MB/s\u001b[0m eta \u001b[36m0:00:00\u001b[0m\n",
      "\u001b[?25hCollecting julius>=0.2.3\n",
      "  Downloading julius-0.2.7.tar.gz (59 kB)\n",
      "\u001b[2K     \u001b[90m━━━━━━━━━━━━━━━━━━━━━━━━━━━━━━━━━━━━━━━━\u001b[0m \u001b[32m59.6/59.6 kB\u001b[0m \u001b[31m2.1 MB/s\u001b[0m eta \u001b[36m0:00:00\u001b[0m\n",
      "\u001b[?25h  Preparing metadata (setup.py) ... \u001b[?25ldone\n",
      "\u001b[?25hCollecting lameenc>=1.2\n",
      "  Downloading lameenc-1.4.2-cp310-cp310-macosx_10_15_x86_64.whl (159 kB)\n",
      "\u001b[2K     \u001b[90m━━━━━━━━━━━━━━━━━━━━━━━━━━━━━━━━━━━━━━━\u001b[0m \u001b[32m160.0/160.0 kB\u001b[0m \u001b[31m6.0 MB/s\u001b[0m eta \u001b[36m0:00:00\u001b[0m\n",
      "\u001b[?25hCollecting openunmix\n",
      "  Downloading openunmix-1.2.1-py3-none-any.whl (46 kB)\n",
      "\u001b[2K     \u001b[90m━━━━━━━━━━━━━━━━━━━━━━━━━━━━━━━━━━━━━━━━\u001b[0m \u001b[32m46.7/46.7 kB\u001b[0m \u001b[31m1.6 MB/s\u001b[0m eta \u001b[36m0:00:00\u001b[0m\n",
      "\u001b[?25hCollecting pyyaml\n",
      "  Downloading PyYAML-6.0-cp310-cp310-macosx_10_9_x86_64.whl (197 kB)\n",
      "\u001b[2K     \u001b[90m━━━━━━━━━━━━━━━━━━━━━━━━━━━━━━━━━━━━━━━\u001b[0m \u001b[32m197.6/197.6 kB\u001b[0m \u001b[31m6.2 MB/s\u001b[0m eta \u001b[36m0:00:00\u001b[0m\n",
      "\u001b[?25hCollecting torch>=1.8.1\n",
      "  Downloading torch-1.13.1-cp310-none-macosx_10_9_x86_64.whl (135.3 MB)\n",
      "\u001b[2K     \u001b[90m━━━━━━━━━━━━━━━━━━━━━━━━━━━━━━━━━━━━━━\u001b[0m \u001b[32m135.3/135.3 MB\u001b[0m \u001b[31m15.3 MB/s\u001b[0m eta \u001b[36m0:00:00\u001b[0m00:01\u001b[0m00:01\u001b[0m\n",
      "\u001b[?25hCollecting torchaudio>=0.8\n",
      "  Downloading torchaudio-0.13.1-cp310-cp310-macosx_10_9_x86_64.whl (3.3 MB)\n",
      "\u001b[2K     \u001b[90m━━━━━━━━━━━━━━━━━━━━━━━━━━━━━━━━━━━━━━━━\u001b[0m \u001b[32m3.3/3.3 MB\u001b[0m \u001b[31m24.3 MB/s\u001b[0m eta \u001b[36m0:00:00\u001b[0m00:01\u001b[0m00:01\u001b[0m\n",
      "\u001b[?25hCollecting tqdm\n",
      "  Downloading tqdm-4.64.1-py2.py3-none-any.whl (78 kB)\n",
      "\u001b[2K     \u001b[90m━━━━━━━━━━━━━━━━━━━━━━━━━━━━━━━━━━━━━━━━\u001b[0m \u001b[32m78.5/78.5 kB\u001b[0m \u001b[31m2.8 MB/s\u001b[0m eta \u001b[36m0:00:00\u001b[0m\n",
      "\u001b[?25hCollecting Cython\n",
      "  Downloading Cython-0.29.33-py2.py3-none-any.whl (987 kB)\n",
      "\u001b[2K     \u001b[90m━━━━━━━━━━━━━━━━━━━━━━━━━━━━━━━━━━━━━━━\u001b[0m \u001b[32m987.3/987.3 kB\u001b[0m \u001b[31m7.8 MB/s\u001b[0m eta \u001b[36m0:00:00\u001b[0m00:01\u001b[0m00:01\u001b[0m\n",
      "\u001b[?25hRequirement already satisfied: llvmlite<0.40,>=0.39.0dev0 in /Users/vedant/miniconda3/envs/scalable-asset-generation/lib/python3.10/site-packages (from numba>=0.45.1->librosa) (0.39.1)\n",
      "Requirement already satisfied: setuptools in /Users/vedant/miniconda3/envs/scalable-asset-generation/lib/python3.10/site-packages (from numba>=0.45.1->librosa) (65.6.3)\n",
      "Requirement already satisfied: appdirs>=1.3.0 in /Users/vedant/miniconda3/envs/scalable-asset-generation/lib/python3.10/site-packages (from pooch>=1.0->librosa) (1.4.4)\n",
      "Requirement already satisfied: requests>=2.19.0 in /Users/vedant/miniconda3/envs/scalable-asset-generation/lib/python3.10/site-packages (from pooch>=1.0->librosa) (2.28.2)\n",
      "Requirement already satisfied: six>=1.5 in /Users/vedant/miniconda3/envs/scalable-asset-generation/lib/python3.10/site-packages (from python-dateutil>=2.8.1->pandas) (1.16.0)\n",
      "Requirement already satisfied: threadpoolctl>=2.0.0 in /Users/vedant/miniconda3/envs/scalable-asset-generation/lib/python3.10/site-packages (from scikit-learn>=0.19.1->librosa) (3.1.0)\n",
      "Requirement already satisfied: cffi>=1.0 in /Users/vedant/miniconda3/envs/scalable-asset-generation/lib/python3.10/site-packages (from soundfile>=0.10.2->librosa) (1.15.1)\n",
      "Requirement already satisfied: typing-extensions in /Users/vedant/miniconda3/envs/scalable-asset-generation/lib/python3.10/site-packages (from torch>=1.8.1->demucs) (4.4.0)\n",
      "Collecting retrying\n",
      "  Downloading retrying-1.3.4-py3-none-any.whl (11 kB)\n",
      "Collecting submitit\n",
      "  Downloading submitit-1.4.5-py3-none-any.whl (73 kB)\n",
      "\u001b[2K     \u001b[90m━━━━━━━━━━━━━━━━━━━━━━━━━━━━━━━━━━━━━━━━\u001b[0m \u001b[32m73.1/73.1 kB\u001b[0m \u001b[31m2.5 MB/s\u001b[0m eta \u001b[36m0:00:00\u001b[0m\n",
      "\u001b[?25hCollecting omegaconf\n",
      "  Downloading omegaconf-2.3.0-py3-none-any.whl (79 kB)\n",
      "\u001b[2K     \u001b[90m━━━━━━━━━━━━━━━━━━━━━━━━━━━━━━━━━━━━━━━━\u001b[0m \u001b[32m79.5/79.5 kB\u001b[0m \u001b[31m2.9 MB/s\u001b[0m eta \u001b[36m0:00:00\u001b[0m\n",
      "\u001b[?25hCollecting treetable\n",
      "  Downloading treetable-0.2.5.tar.gz (10 kB)\n",
      "  Preparing metadata (setup.py) ... \u001b[?25ldone\n",
      "\u001b[?25hRequirement already satisfied: pycparser in /Users/vedant/miniconda3/envs/scalable-asset-generation/lib/python3.10/site-packages (from cffi>=1.0->soundfile>=0.10.2->librosa) (2.21)\n",
      "Requirement already satisfied: charset-normalizer<4,>=2 in /Users/vedant/miniconda3/envs/scalable-asset-generation/lib/python3.10/site-packages (from requests>=2.19.0->pooch>=1.0->librosa) (3.0.1)\n",
      "Requirement already satisfied: urllib3<1.27,>=1.21.1 in /Users/vedant/miniconda3/envs/scalable-asset-generation/lib/python3.10/site-packages (from requests>=2.19.0->pooch>=1.0->librosa) (1.26.14)\n",
      "Requirement already satisfied: certifi>=2017.4.17 in /Users/vedant/miniconda3/envs/scalable-asset-generation/lib/python3.10/site-packages (from requests>=2.19.0->pooch>=1.0->librosa) (2022.12.7)\n",
      "Requirement already satisfied: idna<4,>=2.5 in /Users/vedant/miniconda3/envs/scalable-asset-generation/lib/python3.10/site-packages (from requests>=2.19.0->pooch>=1.0->librosa) (3.4)\n",
      "Collecting antlr4-python3-runtime==4.9.*\n",
      "  Downloading antlr4-python3-runtime-4.9.3.tar.gz (117 kB)\n",
      "\u001b[2K     \u001b[90m━━━━━━━━━━━━━━━━━━━━━━━━━━━━━━━━━━━━━━━\u001b[0m \u001b[32m117.0/117.0 kB\u001b[0m \u001b[31m4.5 MB/s\u001b[0m eta \u001b[36m0:00:00\u001b[0m\n",
      "\u001b[?25h  Preparing metadata (setup.py) ... \u001b[?25ldone\n",
      "\u001b[?25hCollecting cloudpickle>=1.2.1\n",
      "  Downloading cloudpickle-2.2.1-py3-none-any.whl (25 kB)\n",
      "Building wheels for collected packages: demucs, julius, dora-search, antlr4-python3-runtime, treetable\n",
      "  Building wheel for demucs (setup.py) ... \u001b[?25ldone\n",
      "\u001b[?25h  Created wheel for demucs: filename=demucs-4.0.0-py3-none-any.whl size=76504 sha256=0c7c2a619c2aac5a1c0fc75045647aa1a954d347a58800d1f8c2fedf3af4ca8d\n",
      "  Stored in directory: /Users/vedant/Library/Caches/pip/wheels/3d/ae/0d/2f0c77de27fd076c8f1b160f9414cca7b89bb98cc8a32b7224\n",
      "  Building wheel for julius (setup.py) ... \u001b[?25ldone\n",
      "\u001b[?25h  Created wheel for julius: filename=julius-0.2.7-py3-none-any.whl size=21878 sha256=203bc6270a323ec9924d52d1395a583b0734d9331f0f0ce1e81b07dbc0f03fa6\n",
      "  Stored in directory: /Users/vedant/Library/Caches/pip/wheels/77/2f/b9/af02b53fa9ec38594c58f905e206bc6de9628d96807c133130\n",
      "  Building wheel for dora-search (pyproject.toml) ... \u001b[?25ldone\n",
      "\u001b[?25h  Created wheel for dora-search: filename=dora_search-0.1.11-py3-none-any.whl size=74989 sha256=6b43ec0c52f54694c2c23d0fd20111005b8816200edbcfb4e90651ff871fe57a\n",
      "  Stored in directory: /Users/vedant/Library/Caches/pip/wheels/dc/6c/36/a37a034d3549a877d3b6a6933a5518cafc6625c213df9c57c0\n",
      "  Building wheel for antlr4-python3-runtime (setup.py) ... \u001b[?25ldone\n",
      "\u001b[?25h  Created wheel for antlr4-python3-runtime: filename=antlr4_python3_runtime-4.9.3-py3-none-any.whl size=144554 sha256=8217c90acad81c4fbc64448643ff60c0fd07f4234b525cb92f6b1bc680773b3f\n",
      "  Stored in directory: /Users/vedant/Library/Caches/pip/wheels/48/6a/c2/acb58c7afdf57e4cddf5e1513f5a2d62aa8e98f82a00c76d7c\n",
      "  Building wheel for treetable (setup.py) ... \u001b[?25ldone\n",
      "\u001b[?25h  Created wheel for treetable: filename=treetable-0.2.5-py3-none-any.whl size=7333 sha256=fab5eaf03df0714056836a95a7a3245b979f97e1126b2e5086a810f0449b18be\n",
      "  Stored in directory: /Users/vedant/Library/Caches/pip/wheels/13/88/5d/1f94db61bd951aa423de0ac6c17c2a3f7cc7ed626f41c850de\n",
      "Successfully built demucs julius dora-search antlr4-python3-runtime treetable\n",
      "Installing collected packages: lameenc, antlr4-python3-runtime, treetable, tqdm, torch, retrying, pyyaml, einops, Cython, cloudpickle, torchaudio, submitit, omegaconf, julius, diffq, openunmix, dora-search, demucs\n",
      "Successfully installed Cython-0.29.33 antlr4-python3-runtime-4.9.3 cloudpickle-2.2.1 demucs-4.0.0 diffq-0.2.3 dora-search-0.1.11 einops-0.6.0 julius-0.2.7 lameenc-1.4.2 omegaconf-2.3.0 openunmix-1.2.1 pyyaml-6.0 retrying-1.3.4 submitit-1.4.5 torch-1.13.1 torchaudio-0.13.1 tqdm-4.64.1 treetable-0.2.5\n"
     ]
    }
   ],
   "source": [
    "! pip install librosa numpy pandas demucs"
   ]
  },
  {
   "cell_type": "code",
   "execution_count": 1,
   "metadata": {},
   "outputs": [],
   "source": [
    "import librosa\n",
    "import numpy as np\n",
    "import os\n",
    "import pandas as pd\n",
    "import io\n",
    "from pathlib import Path\n",
    "from shutil import rmtree\n",
    "import subprocess as sp\n"
   ]
  },
  {
   "attachments": {},
   "cell_type": "markdown",
   "metadata": {},
   "source": [
    "# Source Separation using Demucs"
   ]
  },
  {
   "cell_type": "code",
   "execution_count": null,
   "metadata": {},
   "outputs": [],
   "source": [
    "model = \"htdemucs\"\n",
    "extensions = [\"mp3\", \"wav\", \"ogg\", \"flac\"]  # we will look for all those file types.\n",
    "two_stems = None   # only separate one stems from the rest, for instance\n",
    "\n",
    "# Options for the output audio.\n",
    "mp3 = True\n",
    "mp3_rate = 320\n",
    "float32 = False  # output as float 32 wavs, unsused if 'mp3' is True.\n",
    "int24 = False    # output as int24 wavs, unused if 'mp3' is True."
   ]
  },
  {
   "cell_type": "code",
   "execution_count": 39,
   "metadata": {},
   "outputs": [],
   "source": [
    "from dataclasses import dataclass\n",
    "\n",
    "@dataclass\n",
    "class DeMixedAudio():\n",
    "    sample_rate: int\n",
    "    bass : np.ndarray\n",
    "    drums : np.ndarray\n",
    "    other : np.ndarray\n",
    "    vocals : np.ndarray"
   ]
  },
  {
   "cell_type": "code",
   "execution_count": null,
   "metadata": {},
   "outputs": [],
   "source": [
    "class DeMixedAudio():\n",
    "    def __init__(self, sample_rate, bass, drums, other, vocals):\n",
    "        self.sample_rate = sample_rate\n",
    "        self.bass = bass\n",
    "        self.drums = drums\n",
    "        self.other = other\n",
    "        self.vocals = vocals"
   ]
  },
  {
   "attachments": {},
   "cell_type": "markdown",
   "metadata": {},
   "source": [
    "TODO: check how this works across songs with different sample rates\n",
    "\n",
    "- Does the model work with different sample rates?\n",
    "- Does the model output have the same sample rate as the input?\n",
    "- If so TODO: find a way to find the input native sample rate of the audio and use this to re-load the stems"
   ]
  },
  {
   "cell_type": "code",
   "execution_count": 40,
   "metadata": {},
   "outputs": [],
   "source": [
    "def get_stems(path_to_file,model='htdemucs',):\n",
    "    file_name = os.path.basename(path_to_file)\n",
    "    sp.run([\"python3\", \"-m\", \"demucs.separate\", \"-o\", \"../resources/tmp\", \"-n\", model, path_to_file])\n",
    "    print(\"Demucs done, loading files\")\n",
    "    stems={}\n",
    "    for stem in ['bass','drums','other','vocals']:\n",
    "        stems[stem] = librosa.load(os.path.join(\"../resources/tmp/htdemucs\",file_name[:file_name.find('.')],f\"{stem}.wav\"), sr=44100)[0]\n",
    "    rmtree(f\"../resources/tmp/htdemucs/{file_name[:file_name.find('.')]}\")\n",
    "    return DeMixedAudio(44100, bass=stems['bass'], drums=stems['drums'], other=stems['other'], vocals=stems['vocals'])#stems"
   ]
  },
  {
   "cell_type": "code",
   "execution_count": 41,
   "metadata": {},
   "outputs": [
    {
     "name": "stdout",
     "output_type": "stream",
     "text": [
      "Selected model is a bag of 1 models. You will see that many progress bars per track.\n",
      "Separated tracks will be stored in /Users/vedant/Desktop/Programming/WMG/scalable-asset-generation/resources/tmp/htdemucs\n",
      "Separating track ../resources/test_file.wav\n"
     ]
    },
    {
     "name": "stderr",
     "output_type": "stream",
     "text": [
      "dyld: Library not loaded: /usr/local/opt/jpeg-xl/lib/libjxl.0.6.dylib\n",
      "  Referenced from: /usr/local/bin/ffprobe\n",
      "  Reason: image not found\n",
      "100%|████████████████████████████████████████████████████████████████████████| 128.7/128.7 [02:07<00:00,  1.01seconds/s]\n"
     ]
    },
    {
     "name": "stdout",
     "output_type": "stream",
     "text": [
      "Demucs done, loading files\n"
     ]
    }
   ],
   "source": [
    "song = get_stems(\"../resources/test_file.wav\")"
   ]
  },
  {
   "cell_type": "code",
   "execution_count": 42,
   "metadata": {},
   "outputs": [
    {
     "data": {
      "text/plain": [
       "DeMixedAudio(sample_rate=44100, bass=array([-3.0517578e-05, -9.1552734e-05, -9.1552734e-05, ...,\n",
       "        4.5776367e-04,  4.5776367e-04,  4.5776367e-04], dtype=float32), drums=array([0.00109863, 0.0009613 , 0.00099182, ..., 0.00033569, 0.00033569,\n",
       "       0.00033569], dtype=float32), other=array([3.8146973e-04, 3.0517578e-05, 5.7983398e-04, ..., 2.1362305e-04,\n",
       "       1.6784668e-04, 1.9836426e-04], dtype=float32), vocals=array([0.00054932, 0.00057983, 0.00056458, ..., 0.00039673, 0.00039673,\n",
       "       0.00039673], dtype=float32))"
      ]
     },
     "execution_count": 42,
     "metadata": {},
     "output_type": "execute_result"
    }
   ],
   "source": [
    "song"
   ]
  },
  {
   "cell_type": "code",
   "execution_count": null,
   "metadata": {},
   "outputs": [],
   "source": []
  },
  {
   "cell_type": "code",
   "execution_count": 38,
   "metadata": {},
   "outputs": [
    {
     "data": {
      "text/plain": [
       "{'bass': array([ 3.0517578e-05,  0.0000000e+00, -3.0517578e-05, ...,\n",
       "         4.2724609e-04,  4.2724609e-04,  4.2724609e-04], dtype=float32),\n",
       " 'drums': array([0.00088501, 0.00080872, 0.0007782 , ..., 0.00033569, 0.00033569,\n",
       "        0.00033569], dtype=float32),\n",
       " 'other': array([0.00053406, 0.00027466, 0.00082397, ..., 0.00027466, 0.00021362,\n",
       "        0.0002594 ], dtype=float32),\n",
       " 'vocals': array([0.00050354, 0.0005188 , 0.00047302, ..., 0.00039673, 0.00042725,\n",
       "        0.00039673], dtype=float32)}"
      ]
     },
     "execution_count": 38,
     "metadata": {},
     "output_type": "execute_result"
    }
   ],
   "source": [
    "stems"
   ]
  },
  {
   "cell_type": "code",
   "execution_count": null,
   "metadata": {},
   "outputs": [],
   "source": []
  }
 ],
 "metadata": {
  "kernelspec": {
   "display_name": "scalable-asset-generation",
   "language": "python",
   "name": "python3"
  },
  "language_info": {
   "codemirror_mode": {
    "name": "ipython",
    "version": 3
   },
   "file_extension": ".py",
   "mimetype": "text/x-python",
   "name": "python",
   "nbconvert_exporter": "python",
   "pygments_lexer": "ipython3",
   "version": "3.10.9"
  },
  "orig_nbformat": 4,
  "vscode": {
   "interpreter": {
    "hash": "bf4c79542e7d10b0ff3d3e51bf4ffdbb3a1ac3d24233afb3e0a2f487d25ec48f"
   }
  }
 },
 "nbformat": 4,
 "nbformat_minor": 2
}
